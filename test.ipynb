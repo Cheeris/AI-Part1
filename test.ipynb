{
 "cells": [
  {
   "cell_type": "code",
   "execution_count": 1,
   "metadata": {},
   "outputs": [
    {
     "name": "stdout",
     "output_type": "stream",
     "text": [
      "Testing: I am playing as red\n"
     ]
    },
    {
     "data": {
      "text/plain": [
       "<agent.program.Agent at 0x105d6c4f0>"
      ]
     },
     "execution_count": 1,
     "metadata": {},
     "output_type": "execute_result"
    }
   ],
   "source": [
    "from agent import Agent\n",
    "from referee.game import PlayerColor\n",
    "agent = Agent(PlayerColor.RED)\n",
    "\n",
    "agent"
   ]
  },
  {
   "cell_type": "code",
   "execution_count": 2,
   "metadata": {},
   "outputs": [
    {
     "data": {
      "text/plain": [
       "SpawnAction(cell=HexPos(r=1, q=2))"
      ]
     },
     "execution_count": 2,
     "metadata": {},
     "output_type": "execute_result"
    }
   ],
   "source": [
    "action = agent.action()\n",
    "action"
   ]
  },
  {
   "cell_type": "code",
   "execution_count": 3,
   "metadata": {},
   "outputs": [],
   "source": [
    "from agent.board import MatrixBoard\n",
    "import numpy as np\n",
    "\n",
    "matrix = np.zeros([2,7,7], dtype=int)\n",
    "board = MatrixBoard(matrix, 0, 0, 0)"
   ]
  },
  {
   "cell_type": "code",
   "execution_count": 4,
   "metadata": {},
   "outputs": [],
   "source": [
    "from referee.game import \\\n",
    "    PlayerColor, Action, SpawnAction, SpreadAction, HexPos, HexDir\n",
    "\n",
    "board.apply_action(SpawnAction(HexPos(1,1)), PlayerColor.RED)\n",
    "board.apply_action(SpawnAction(HexPos(1,2)), PlayerColor.BLUE)\n",
    "board.apply_action(SpreadAction(HexPos(1,1), HexDir.UpRight), PlayerColor.RED)"
   ]
  },
  {
   "cell_type": "code",
   "execution_count": 5,
   "metadata": {},
   "outputs": [
    {
     "name": "stdout",
     "output_type": "stream",
     "text": [
      "                         ..     \n",
      "                     ..      ..     \n",
      "                 ..      ..      ..     \n",
      "             ..      ..      ..      ..     \n",
      "         ..      ..      ..      ..      ..     \n",
      "     ..     \u001b[31m r1 \u001b[0m     ..      ..      ..      ..     \n",
      " ..      ..      ..      ..      ..      ..      ..     \n",
      "     ..     \u001b[34m b1 \u001b[0m     ..      ..      ..      ..     \n",
      "         ..      ..      ..      ..      ..     \n",
      "             ..      ..      ..      ..     \n",
      "                 ..      ..      ..     \n",
      "                     ..      ..     \n",
      "                         ..     \n",
      "\n"
     ]
    }
   ],
   "source": [
    "print(board.render(use_color=True, use_unicode=True))"
   ]
  },
  {
   "cell_type": "code",
   "execution_count": 6,
   "metadata": {},
   "outputs": [],
   "source": [
    "import math\n",
    "from enum import Enum\n",
    "from referee.game import \\\n",
    "    PlayerColor, Action, SpawnAction, SpreadAction, HexPos, HexDir\n",
    "from agent.board import MatrixBoard\n",
    "\n",
    "class MCState(Enum):\n",
    "    UNVISITIED = 0;\n",
    "    UNEXPANDED = 1;\n",
    "    EXPANDED = 2;\n",
    "\n",
    "class MCNode:\n",
    "    def __init__(self, \n",
    "                 time_limit: float | None, \n",
    "                 space_limit: float | None,\n",
    "                 board: MatrixBoard, \n",
    "                 color: PlayerColor,\n",
    "                 action: Action = None,\n",
    "                 parent = None,\n",
    "                 ) -> None:\n",
    "        self.playouts = 0\n",
    "        self.wins = 0\n",
    "        self.state = MCState.UNVISITIED\n",
    "        self.time_limit = time_limit\n",
    "        self.space_limit = space_limit\n",
    "        self.board = board\n",
    "        self.parent = parent\n",
    "        self.children = []\n",
    "        self.action = action\n",
    "        self.color = color\n",
    "        # self.ubc\n",
    "    \n",
    "    def is_over(self) -> bool:\n",
    "        return self.board.game_over()\n",
    "    \n",
    "    def winner_color(self) -> PlayerColor | None: \n",
    "        return self.board.winner_color()\n",
    "    \n",
    "    def _ucb(self, c):\n",
    "        '''\n",
    "        Calculate the UCB score.\n",
    "        '''\n",
    "        return self.wins / self.playouts \\\n",
    "                + c * math.sqrt(2 * math.log(self.playouts) / self.playouts)"
   ]
  },
  {
   "cell_type": "code",
   "execution_count": 7,
   "metadata": {},
   "outputs": [
    {
     "ename": "TypeError",
     "evalue": "MCNode.__init__() missing 4 required positional arguments: 'time_limit', 'space_limit', 'board', and 'color'",
     "output_type": "error",
     "traceback": [
      "\u001b[0;31m---------------------------------------------------------------------------\u001b[0m",
      "\u001b[0;31mTypeError\u001b[0m                                 Traceback (most recent call last)",
      "Cell \u001b[0;32mIn[7], line 1\u001b[0m\n\u001b[0;32m----> 1\u001b[0m node \u001b[39m=\u001b[39m MCNode()\n",
      "\u001b[0;31mTypeError\u001b[0m: MCNode.__init__() missing 4 required positional arguments: 'time_limit', 'space_limit', 'board', and 'color'"
     ]
    }
   ],
   "source": [
    "state_prev = np.zeros([2,7,7], dtype=int)\n",
    "board_prev = MatrixBoard(state_prev, 0, 0, 0)\n",
    "node_prev = MCNode(0, 0, board_prev, PlayerColor.RED, None, None)\n",
    "\n",
    "node_curr = MCNode(0, 0, board_prev, PlayerColor.RED, None, None)"
   ]
  }
 ],
 "metadata": {
  "kernelspec": {
   "display_name": "base",
   "language": "python",
   "name": "python3"
  },
  "language_info": {
   "codemirror_mode": {
    "name": "ipython",
    "version": 3
   },
   "file_extension": ".py",
   "mimetype": "text/x-python",
   "name": "python",
   "nbconvert_exporter": "python",
   "pygments_lexer": "ipython3",
   "version": "3.10.9"
  },
  "orig_nbformat": 4
 },
 "nbformat": 4,
 "nbformat_minor": 2
}
