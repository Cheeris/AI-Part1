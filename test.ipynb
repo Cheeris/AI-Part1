{
 "cells": [
  {
   "cell_type": "code",
   "execution_count": 109,
   "metadata": {},
   "outputs": [
    {
     "name": "stdout",
     "output_type": "stream",
     "text": [
      "Testing: I am playing as red\n"
     ]
    },
    {
     "data": {
      "text/plain": [
       "<agent.program.Agent at 0x1236714e0>"
      ]
     },
     "execution_count": 109,
     "metadata": {},
     "output_type": "execute_result"
    }
   ],
   "source": [
    "from agent import Agent\n",
    "from referee.game import PlayerColor\n",
    "agent = Agent(PlayerColor.RED)\n",
    "\n",
    "agent"
   ]
  },
  {
   "cell_type": "code",
   "execution_count": 2,
   "metadata": {},
   "outputs": [
    {
     "data": {
      "text/plain": [
       "SpawnAction(cell=HexPos(r=4, q=6))"
      ]
     },
     "execution_count": 2,
     "metadata": {},
     "output_type": "execute_result"
    }
   ],
   "source": [
    "action = agent.action()\n",
    "action"
   ]
  },
  {
   "cell_type": "code",
   "execution_count": 110,
   "metadata": {},
   "outputs": [],
   "source": [
    "from agent.board import MatrixBoard\n",
    "import numpy as np\n",
    "\n",
    "matrix = np.zeros([2,7,7], dtype=int)\n",
    "board = MatrixBoard(matrix, 0, 0, 0)"
   ]
  },
  {
   "cell_type": "code",
   "execution_count": 111,
   "metadata": {},
   "outputs": [],
   "source": [
    "from referee.game import \\\n",
    "    PlayerColor, Action, SpawnAction, SpreadAction, HexPos, HexDir\n",
    "\n",
    "board.apply_action(SpawnAction(HexPos(1,1)), PlayerColor.RED)\n",
    "board.apply_action(SpawnAction(HexPos(1,2)), PlayerColor.BLUE)\n",
    "board.apply_action(SpreadAction(HexPos(1,1), HexDir.UpRight), PlayerColor.RED)"
   ]
  },
  {
   "cell_type": "code",
   "execution_count": 5,
   "metadata": {},
   "outputs": [
    {
     "name": "stdout",
     "output_type": "stream",
     "text": [
      "                         ..     \n",
      "                     ..      ..     \n",
      "                 ..      ..      ..     \n",
      "             ..      ..      ..      ..     \n",
      "         ..      ..      ..      ..      ..     \n",
      "     ..     \u001b[31m r1 \u001b[0m     ..      ..      ..      ..     \n",
      " ..      ..      ..      ..      ..      ..      ..     \n",
      "     ..     \u001b[34m b1 \u001b[0m     ..      ..      ..      ..     \n",
      "         ..      ..      ..      ..      ..     \n",
      "             ..      ..      ..      ..     \n",
      "                 ..      ..      ..     \n",
      "                     ..      ..     \n",
      "                         ..     \n",
      "\n"
     ]
    }
   ],
   "source": [
    "print(board.render(use_color=True, use_unicode=True))"
   ]
  },
  {
   "cell_type": "code",
   "execution_count": 112,
   "metadata": {},
   "outputs": [],
   "source": [
    "import math\n",
    "from enum import Enum\n",
    "from referee.game import \\\n",
    "    PlayerColor, Action, SpawnAction, SpreadAction, HexPos, HexDir\n",
    "from agent.board import MatrixBoard\n",
    "\n",
    "class MCState(Enum):\n",
    "    UNVISITIED = 0;\n",
    "    UNEXPANDED = 1;\n",
    "    EXPANDED = 2;\n",
    "\n",
    "class MCNode:\n",
    "    def __init__(self, \n",
    "                 time_limit: float | None, \n",
    "                 space_limit: float | None,\n",
    "                 board: MatrixBoard, \n",
    "                 color: PlayerColor,\n",
    "                 action: Action = None,\n",
    "                 parent = None,\n",
    "                 ) -> None:\n",
    "        self.playouts = 0\n",
    "        self.wins = 0\n",
    "        self.state = MCState.UNVISITIED\n",
    "        self.time_limit = time_limit\n",
    "        self.space_limit = space_limit\n",
    "        self.board = board\n",
    "        self.parent = parent\n",
    "        self.children = []\n",
    "        self.action = action\n",
    "        self.color = color\n",
    "        # self.ubc\n",
    "    \n",
    "    def is_over(self) -> bool:\n",
    "        return self.board.game_over()\n",
    "    \n",
    "    def winner_color(self) -> PlayerColor | None: \n",
    "        return self.board.winner_color()\n",
    "    \n",
    "    def _ucb(self, c):\n",
    "        '''\n",
    "        Calculate the UCB score.\n",
    "        '''\n",
    "        return self.wins / self.playouts \\\n",
    "                + c * math.sqrt(2 * math.log(self.playouts) / self.playouts)"
   ]
  },
  {
   "cell_type": "code",
   "execution_count": 7,
   "metadata": {},
   "outputs": [],
   "source": [
    "state_prev = np.zeros([2,7,7], dtype=int)\n",
    "board_prev = MatrixBoard(state_prev, 0, 0, 0)\n",
    "node_prev = MCNode(0, 0, board_prev, PlayerColor.RED, None, None)\n",
    "\n",
    "node_curr = MCNode(0, 0, board_prev, PlayerColor.RED, None, None)"
   ]
  },
  {
   "cell_type": "code",
   "execution_count": 8,
   "metadata": {},
   "outputs": [],
   "source": [
    "import numpy as np\n",
    "\n",
    "# Create a NumPy array\n",
    "# my_array = np.array([[1, 2, 3], [4, 5, 6]])\n",
    "my_array = np.zeros([2,2,7,7], dtype=int).reshape([2, 2*7*7])\n",
    "\n",
    "# Open the file in append mode\n",
    "with open('my_file.csv', mode='w') as file:\n",
    "    # Use np.savetxt() with the file object\n",
    "    np.savetxt(file, my_array, delimiter=',')\n"
   ]
  },
  {
   "cell_type": "code",
   "execution_count": 9,
   "metadata": {},
   "outputs": [
    {
     "data": {
      "text/plain": [
       "(2, 98)"
      ]
     },
     "execution_count": 9,
     "metadata": {},
     "output_type": "execute_result"
    }
   ],
   "source": [
    "# Read the CSV file as a float data type\n",
    "my_array = np.loadtxt('my_file.csv', delimiter=',', dtype=float)\n",
    "my_array.shape"
   ]
  },
  {
   "cell_type": "code",
   "execution_count": 10,
   "metadata": {},
   "outputs": [
    {
     "data": {
      "text/plain": [
       "array([[[[0., 0., 0., 0., 0., 0., 0.],\n",
       "         [0., 0., 0., 0., 0., 0., 0.],\n",
       "         [0., 0., 0., 0., 0., 0., 0.],\n",
       "         [0., 0., 0., 0., 0., 0., 0.],\n",
       "         [0., 0., 0., 0., 0., 0., 0.],\n",
       "         [0., 0., 0., 0., 0., 0., 0.],\n",
       "         [0., 0., 0., 0., 0., 0., 0.]],\n",
       "\n",
       "        [[0., 0., 0., 0., 0., 0., 0.],\n",
       "         [0., 0., 0., 0., 0., 0., 0.],\n",
       "         [0., 0., 0., 0., 0., 0., 0.],\n",
       "         [0., 0., 0., 0., 0., 0., 0.],\n",
       "         [0., 0., 0., 0., 0., 0., 0.],\n",
       "         [0., 0., 0., 0., 0., 0., 0.],\n",
       "         [0., 0., 0., 0., 0., 0., 0.]]],\n",
       "\n",
       "\n",
       "       [[[0., 0., 0., 0., 0., 0., 0.],\n",
       "         [0., 0., 0., 0., 0., 0., 0.],\n",
       "         [0., 0., 0., 0., 0., 0., 0.],\n",
       "         [0., 0., 0., 0., 0., 0., 0.],\n",
       "         [0., 0., 0., 0., 0., 0., 0.],\n",
       "         [0., 0., 0., 0., 0., 0., 0.],\n",
       "         [0., 0., 0., 0., 0., 0., 0.]],\n",
       "\n",
       "        [[0., 0., 0., 0., 0., 0., 0.],\n",
       "         [0., 0., 0., 0., 0., 0., 0.],\n",
       "         [0., 0., 0., 0., 0., 0., 0.],\n",
       "         [0., 0., 0., 0., 0., 0., 0.],\n",
       "         [0., 0., 0., 0., 0., 0., 0.],\n",
       "         [0., 0., 0., 0., 0., 0., 0.],\n",
       "         [0., 0., 0., 0., 0., 0., 0.]]]])"
      ]
     },
     "execution_count": 10,
     "metadata": {},
     "output_type": "execute_result"
    }
   ],
   "source": [
    "my_array.reshape([2,2,7,7])"
   ]
  },
  {
   "cell_type": "code",
   "execution_count": 11,
   "metadata": {},
   "outputs": [
    {
     "data": {
      "text/plain": [
       "(2, 98)"
      ]
     },
     "execution_count": 11,
     "metadata": {},
     "output_type": "execute_result"
    }
   ],
   "source": [
    "my_array.shape"
   ]
  },
  {
   "cell_type": "code",
   "execution_count": 12,
   "metadata": {},
   "outputs": [],
   "source": [
    "def convert_action_to_array(action: Action) -> np.ndarray:\n",
    "    match action:\n",
    "        case SpawnAction(cell):\n",
    "            return np.array([cell.r, cell.q, 0, 0])\n",
    "            # pass\n",
    "        case SpreadAction(cell, direction):\n",
    "            return np.array([cell.r, cell.q, direction.r, direction.q])"
   ]
  },
  {
   "cell_type": "code",
   "execution_count": 13,
   "metadata": {},
   "outputs": [
    {
     "data": {
      "text/plain": [
       "(1, 4)"
      ]
     },
     "execution_count": 13,
     "metadata": {},
     "output_type": "execute_result"
    }
   ],
   "source": [
    "convert_action_to_array(SpreadAction(HexPos(1,1), HexDir.Down)).reshape([1,-1]).shape"
   ]
  },
  {
   "cell_type": "code",
   "execution_count": 14,
   "metadata": {},
   "outputs": [
    {
     "data": {
      "text/plain": [
       "array([[207]])"
      ]
     },
     "execution_count": 14,
     "metadata": {},
     "output_type": "execute_result"
    }
   ],
   "source": [
    "i = 207\n",
    "np.array([i], dtype=int).reshape(1, -1)"
   ]
  },
  {
   "cell_type": "code",
   "execution_count": 15,
   "metadata": {},
   "outputs": [],
   "source": [
    "board = np.zeros([2,7,7], dtype=int)\n",
    "board[0,1,1] = 3\n",
    "board[1,3,4] = 5\n",
    "\n",
    "# translate the board into state \n",
    "new_board = np.zeros([3,7,7], dtype=int)\n",
    "new_board[-1] = np.ones([1,7,7], dtype=int)\n",
    "\n",
    "# Channel 1: represents the positions of tokens\n",
    "set_oppo = lambda x: -1 if x > 0 else 0\n",
    "set_curr = lambda x: 1 if x > 0 else 0\n",
    "oppo = np.array([[set_oppo(e) for e in row] for row in board[1]])\n",
    "curr = np.array([[set_curr(e) for e in row] for row in board[0]])\n",
    "new_board[0] = oppo + curr\n",
    "\n",
    "# Channel 2: represents the power of all tokens\n",
    "add = board[0] + board[1]\n",
    "new_board[1] = np.copy(add)"
   ]
  },
  {
   "cell_type": "code",
   "execution_count": 16,
   "metadata": {},
   "outputs": [
    {
     "data": {
      "text/plain": [
       "array([[[ 0,  0,  0,  0,  0,  0,  0],\n",
       "        [ 0,  1,  0,  0,  0,  0,  0],\n",
       "        [ 0,  0,  0,  0,  0,  0,  0],\n",
       "        [ 0,  0,  0,  0, -1,  0,  0],\n",
       "        [ 0,  0,  0,  0,  0,  0,  0],\n",
       "        [ 0,  0,  0,  0,  0,  0,  0],\n",
       "        [ 0,  0,  0,  0,  0,  0,  0]],\n",
       "\n",
       "       [[ 0,  0,  0,  0,  0,  0,  0],\n",
       "        [ 0,  3,  0,  0,  0,  0,  0],\n",
       "        [ 0,  0,  0,  0,  0,  0,  0],\n",
       "        [ 0,  0,  0,  0,  5,  0,  0],\n",
       "        [ 0,  0,  0,  0,  0,  0,  0],\n",
       "        [ 0,  0,  0,  0,  0,  0,  0],\n",
       "        [ 0,  0,  0,  0,  0,  0,  0]],\n",
       "\n",
       "       [[ 1,  1,  1,  1,  1,  1,  1],\n",
       "        [ 1,  1,  1,  1,  1,  1,  1],\n",
       "        [ 1,  1,  1,  1,  1,  1,  1],\n",
       "        [ 1,  1,  1,  1,  1,  1,  1],\n",
       "        [ 1,  1,  1,  1,  1,  1,  1],\n",
       "        [ 1,  1,  1,  1,  1,  1,  1],\n",
       "        [ 1,  1,  1,  1,  1,  1,  1]]])"
      ]
     },
     "execution_count": 16,
     "metadata": {},
     "output_type": "execute_result"
    }
   ],
   "source": [
    "new_board"
   ]
  },
  {
   "cell_type": "code",
   "execution_count": 17,
   "metadata": {},
   "outputs": [
    {
     "name": "stdout",
     "output_type": "stream",
     "text": [
      "tensor([[-0.0594]], grad_fn=<TanhBackward0>)\n"
     ]
    }
   ],
   "source": [
    "import torch\n",
    "import numpy as np\n",
    "\n",
    "class ExampleModel(torch.nn.Module):\n",
    "    def __init__(self):\n",
    "        super(ExampleModel, self).__init__()\n",
    "        self.conv1 = torch.nn.Conv2d(2, 16, kernel_size=3, stride=1, padding=1)\n",
    "        self.relu1 = torch.nn.ReLU()\n",
    "        self.conv2 = torch.nn.Conv2d(16, 32, kernel_size=3, stride=1, padding=1)\n",
    "        self.relu2 = torch.nn.ReLU()\n",
    "        self.fc1 = torch.nn.Linear(32 * 7 * 7, 128)\n",
    "        self.relu3 = torch.nn.ReLU()\n",
    "        self.fc2 = torch.nn.Linear(128, 1)\n",
    "        self.tanh = torch.nn.Tanh()\n",
    "\n",
    "    def forward(self, x):\n",
    "        x = torch.from_numpy(x).float() # convert input numpy array to torch tensor\n",
    "        x = self.conv1(x)\n",
    "        x = self.relu1(x)\n",
    "        x = self.conv2(x)\n",
    "        x = self.relu2(x)\n",
    "        x = x.view(-1, 32 * 7 * 7) # flatten the tensor\n",
    "        x = self.fc1(x)\n",
    "        x = self.relu3(x)\n",
    "        x = self.fc2(x)\n",
    "        x = self.tanh(x)\n",
    "        return x\n",
    "\n",
    "model = ExampleModel()\n",
    "input_array = np.random.rand(2, 7, 7)\n",
    "output = model(input_array)\n",
    "print(output)\n"
   ]
  },
  {
   "cell_type": "code",
   "execution_count": 18,
   "metadata": {},
   "outputs": [],
   "source": [
    "# import numpy as np\n",
    "\n",
    "# import numpy as np\n",
    "\n",
    "# def example_model_predict(input_array):\n",
    "#     # define the weights and biases for each layer of the neural network\n",
    "#     conv1_weight = np.random.rand(16, 2, 3, 3)\n",
    "#     conv1_bias = np.random.rand(16)\n",
    "#     conv2_weight = np.random.rand(32, 16, 3, 3)\n",
    "#     conv2_bias = np.random.rand(32)\n",
    "#     fc1_weight = np.random.rand(128, 32 * 7 * 7)\n",
    "#     fc1_bias = np.random.rand(128)\n",
    "#     fc2_weight = np.random.rand(1, 128)\n",
    "#     fc2_bias = np.random.rand(1)\n",
    "\n",
    "#     # perform the operations in the neural network manually\n",
    "#     x = input_array.astype(np.float32)\n",
    "#     x = np.transpose(x, (0, 3, 1, 2))  # transpose to (batch_size, channels, height, width)\n",
    "#     x = np.apply_along_axis(lambda m: np.convolve(m, conv1_weight.T.flatten(), mode='same') + conv1_bias, axis=(2, 3), arr=x)\n",
    "#     x = np.maximum(0, x)\n",
    "#     x = np.apply_along_axis(lambda m: np.convolve(m, conv2_weight.T.flatten(), mode='same') + conv2_bias, axis=(2, 3), arr=x)\n",
    "#     x = np.maximum(0, x)\n",
    "#     x = x.reshape(-1, 32 * 7 * 7)\n",
    "#     x = np.dot(x, fc1_weight.T) + fc1_bias\n",
    "#     x = np.maximum(0, x)\n",
    "#     x = np.dot(x, fc2_weight.T) + fc2_bias\n",
    "#     x = np.tanh(x)\n",
    "\n",
    "#     # return the final output\n",
    "#     return x.item()\n",
    "\n",
    "# # create a random input array with shape (2, 7, 7)\n",
    "# input_array = np.random.rand(2, 7, 7)\n",
    "\n",
    "# # reshape the input array to have shape (2, 1, 7, 7) to match the expected input shape\n",
    "# input_array = input_array.reshape((2, 1, 7, 7))\n",
    "\n",
    "# # call the example_model_predict function with the reshaped input array\n",
    "# output = example_model_predict(input_array)\n",
    "\n",
    "# # print the output\n",
    "# print(output)\n"
   ]
  },
  {
   "cell_type": "code",
   "execution_count": 19,
   "metadata": {},
   "outputs": [
    {
     "name": "stdout",
     "output_type": "stream",
     "text": [
      "rr_5_R.csv\n",
      "rr_17.csv\n",
      "rr_3_R.csv\n",
      "rr_1_R.csv\n",
      "rr_7_B.csv\n",
      "rr_2_B.csv\n",
      "rr_4_R.csv\n",
      "rr_6_B.csv\n",
      "rr_10_R.csv\n",
      "rr_8_R.csv\n",
      "rr_14_R.csv\n",
      "rr_12_B.csv\n",
      "rr_16_D.csv\n",
      "rr_17_B.csv\n",
      "rr_13_R.csv\n",
      "rr_11_B.csv\n",
      "rr_15_R.csv\n",
      "rr_9_R.csv\n"
     ]
    }
   ],
   "source": [
    "import os\n",
    "\n",
    "for file in os.listdir('/Users/clarec/Desktop/COMP30024-AI-ProjectB/agent/log/'):\n",
    "    print(file)\n",
    "# LOG_PATH = '/Users/clarec/Desktop/COMP30024-AI-ProjectB/agent/log/random_random_'\n",
    "\n",
    "# np1 = np.load(LOG_PATH+)"
   ]
  },
  {
   "cell_type": "code",
   "execution_count": 20,
   "metadata": {},
   "outputs": [],
   "source": [
    "LOG_RANDOM_PATH = '/Users/clarec/Desktop/COMP30024-AI-ProjectB/agent/log/rr_1_R.csv'\n",
    "\n",
    "X = np.loadtxt(LOG_RANDOM_PATH, delimiter=',', dtype=float)\n"
   ]
  },
  {
   "cell_type": "code",
   "execution_count": 21,
   "metadata": {},
   "outputs": [
    {
     "data": {
      "text/plain": [
       "array([0., 0., 0., 0., 0., 0., 0., 0., 0., 0., 0., 0., 0., 0., 0., 0., 0.,\n",
       "       0., 0., 0., 0., 0., 0., 0., 0., 0., 0., 0., 0., 0., 0., 0., 0., 0.,\n",
       "       0., 0., 0., 0., 0., 0., 0., 0., 0., 0., 0., 0., 0., 0., 0., 0., 0.,\n",
       "       0., 0., 0., 0., 0., 0., 0., 0., 0., 0., 0., 0., 0., 0., 0., 0., 0.,\n",
       "       0., 0., 0., 0., 0., 0., 0., 0., 0., 0., 0., 0., 0., 0., 0., 0., 0.,\n",
       "       0., 0., 0., 0., 0., 0., 0., 0., 0., 0., 0., 0., 0.])"
      ]
     },
     "execution_count": 21,
     "metadata": {},
     "output_type": "execute_result"
    }
   ],
   "source": [
    "X[0]"
   ]
  },
  {
   "cell_type": "code",
   "execution_count": 22,
   "metadata": {},
   "outputs": [],
   "source": [
    "y = np.ones([343, 1])\n"
   ]
  },
  {
   "cell_type": "code",
   "execution_count": 53,
   "metadata": {},
   "outputs": [
    {
     "name": "stdout",
     "output_type": "stream",
     "text": [
      "(343, 2, 7, 7)\n"
     ]
    }
   ],
   "source": [
    "player = 1\n",
    "def convert_to_state_input(board):\n",
    "    ''' Translate the board into state '''\n",
    "    global player\n",
    "    \n",
    "    # if len(board.shape) == 0:\n",
    "    #     print(board)\n",
    "    #     return np.array([])\n",
    "    \n",
    "    if len(board.shape) < 3:\n",
    "        board = board.reshape([2, 7, 7])\n",
    "        \n",
    "    # n = board.shape[0]\n",
    "    new_board = np.zeros([2,7,7], dtype=int)\n",
    "    # new_board[-1] = np.ones([player,7,7], dtype=int)\n",
    "\n",
    "    # Channel 1: represents the positions of tokens\n",
    "    set_oppo = lambda x: -1 if x > 0 else 0\n",
    "    set_curr = lambda x: 1 if x > 0 else 0\n",
    "    oppo = np.array([[set_oppo(e) for e in r] for r in board[1]])\n",
    "    curr = np.array([[set_curr(e) for e in r] for r in board[0]])\n",
    "    new_board[0] = oppo + curr\n",
    "\n",
    "    # Channel 2: represents the power of all tokens\n",
    "    add = board[0] + board[1]\n",
    "    new_board[1] = np.copy(add)\n",
    "    \n",
    "    # # Channel 3: Which color is playing (RED: 1 BLUE: -1)\n",
    "    # if player == 1:\n",
    "    #     new_board[-1] = np.ones([1,7,7], dtype=int)\n",
    "    # else:\n",
    "    #     new_board[-1] = np.full(fill_value=player, shape=[1,7,7], dtype=int)\n",
    "    \n",
    "    # player = -player \n",
    "    \n",
    "    return new_board\n",
    "\n",
    "res = np.array([convert_to_state_input(xi) for xi in X])\n",
    "print(res.shape)\n",
    "player = 1"
   ]
  },
  {
   "cell_type": "code",
   "execution_count": 115,
   "metadata": {},
   "outputs": [
    {
     "name": "stdout",
     "output_type": "stream",
     "text": [
      "rr_5_R.csv\n",
      "RED\n",
      "mcts_random_1000_2_state.csv\n",
      "DRAW\n",
      "rr_19_B.csv\n",
      "BLUE\n",
      "rr_3_R.csv\n",
      "RED\n",
      "rr_20_R.csv\n",
      "RED\n",
      "rr_1_R.csv\n",
      "RED\n",
      "rr_7_B.csv\n",
      "BLUE\n",
      "mcts_random_1000_3_state.csv\n",
      "DRAW\n",
      "rr_2_B.csv\n",
      "BLUE\n",
      "rr_18_R.csv\n",
      "RED\n",
      "rr_4_R.csv\n",
      "RED\n",
      "rr_6_B.csv\n",
      "BLUE\n",
      "rr_10_R.csv\n",
      "RED\n",
      "rr_8_R.csv\n",
      "RED\n",
      "rr_14_R.csv\n",
      "RED\n",
      "rr_12_B.csv\n",
      "BLUE\n",
      "rr_16_D.csv\n",
      "DRAW\n",
      "rr_17_B.csv\n",
      "BLUE\n",
      "rr_13_R.csv\n",
      "RED\n",
      "rr_11_B.csv\n",
      "BLUE\n",
      "rr_15_R.csv\n",
      "RED\n",
      "rr_9_R.csv\n",
      "RED\n",
      "rab_6_B.csv\n",
      "BLUE\n",
      "abr_5_R.csv\n",
      "RED\n",
      "abm_2_B.csv\n",
      "BLUE\n",
      "rab_4_B.csv\n",
      "BLUE\n",
      "abr_3_R.csv\n",
      "RED\n",
      "abr_1_R.csv\n",
      "RED\n",
      "abr_6_R.csv\n",
      "RED\n",
      "rab_5_B.csv\n",
      "BLUE\n",
      "rab_7_B.csv\n",
      "BLUE\n",
      "abr_4_R.csv\n",
      "RED\n",
      "rab_3_B.csv\n",
      "BLUE\n",
      "abm_3_R.csv\n",
      "RED\n",
      "abm_1_R.csv\n",
      "RED\n",
      "abr_2_R.csv\n",
      "RED\n",
      "aba_3_R.csv\n",
      "RED\n",
      "aba_5_B.csv\n",
      "BLUE\n",
      "aba_1_R.csv\n",
      "RED\n",
      "rab_8_B.csv\n",
      "BLUE\n",
      "aba_6_R.csv\n",
      "RED\n",
      "aba_4_R.csv\n",
      "RED\n",
      "aba_2_B.csv\n",
      "BLUE\n"
     ]
    }
   ],
   "source": [
    "import os\n",
    "\n",
    "player = 1\n",
    "PATH1 = '/Users/clarec/Desktop/COMP30024-AI-ProjectB/agent/log/'\n",
    "PATH2 = '/Users/clarec/Desktop/COMP30024-AI-ProjectB/alpha_beta/log/'\n",
    "read_input = np.array([]).reshape([-1, 2, 7, 7])\n",
    "target_arr = np.array([]).reshape([-1, 1])\n",
    "# np.concatenate([read_input, res]).shape\n",
    "for direct in [PATH1, PATH2]:\n",
    "    for file in os.listdir(direct):\n",
    "        print(file)\n",
    "        tmp = np.loadtxt(direct + file, delimiter=',', dtype=float)\n",
    "        tmp = np.array([convert_to_state_input(xi) for xi in tmp])\n",
    "        read_input = np.concatenate([read_input, tmp])\n",
    "        \n",
    "        # determine which player has won\n",
    "        if file[-5] ==\"R\":\n",
    "            print(\"RED\")\n",
    "            win = 1\n",
    "        elif file[-5] ==\"B\":\n",
    "            print(\"BLUE\")\n",
    "            win = -1 \n",
    "        else:  # draw\n",
    "            print(\"DRAW\")\n",
    "            win = 0\n",
    "        \n",
    "        win_score = np.full(shape=[tmp.shape[0], 1], fill_value=win)\n",
    "        target_arr = np.concatenate([target_arr, win_score])"
   ]
  },
  {
   "cell_type": "code",
   "execution_count": 116,
   "metadata": {},
   "outputs": [],
   "source": [
    "import torch\n",
    "import torch.nn as nn\n",
    "import torch.optim as optim\n",
    "import numpy as np\n",
    "\n",
    "# Define the CNN model\n",
    "class CNNModel(nn.Module):\n",
    "    def __init__(self):\n",
    "        super(CNNModel, self).__init__()\n",
    "        self.conv1 = nn.Conv2d(2, 16, kernel_size=3, stride=1, padding=1)\n",
    "        self.relu1 = nn.ReLU()\n",
    "        self.pool1 = nn.MaxPool2d(kernel_size=2)\n",
    "        self.conv2 = nn.Conv2d(16, 32, kernel_size=3, stride=1, padding=1)\n",
    "        self.relu2 = nn.ReLU()\n",
    "        self.pool2 = nn.MaxPool2d(kernel_size=2)\n",
    "        self.fc1 = nn.Linear(32, 64)\n",
    "        self.relu3 = nn.ReLU()\n",
    "        self.fc2 = nn.Linear(64, 1)\n",
    "        self.tanh = nn.Tanh()\n",
    "\n",
    "    def forward(self, x):\n",
    "        x = self.conv1(x)\n",
    "        x = self.relu1(x)\n",
    "        x = self.pool1(x)\n",
    "        x = self.conv2(x)\n",
    "        x = self.relu2(x)\n",
    "        x = self.pool2(x)\n",
    "        x = x.view(x.size(0), -1)\n",
    "        x = self.fc1(x)\n",
    "        x = self.relu3(x)\n",
    "        x = self.fc2(x)\n",
    "        x = self.tanh(x)\n",
    "        return x\n",
    "\n"
   ]
  },
  {
   "cell_type": "code",
   "execution_count": 117,
   "metadata": {},
   "outputs": [
    {
     "name": "stdout",
     "output_type": "stream",
     "text": [
      "Epoch [1/100], Loss: 0.8135\n",
      "Epoch [2/100], Loss: 0.7837\n",
      "Epoch [3/100], Loss: 0.7586\n",
      "Epoch [4/100], Loss: 0.7387\n",
      "Epoch [5/100], Loss: 0.7245\n",
      "Epoch [6/100], Loss: 0.7146\n",
      "Epoch [7/100], Loss: 0.7079\n",
      "Epoch [8/100], Loss: 0.7040\n",
      "Epoch [9/100], Loss: 0.7027\n",
      "Epoch [10/100], Loss: 0.7032\n",
      "Epoch [11/100], Loss: 0.7043\n",
      "Epoch [12/100], Loss: 0.7048\n",
      "Epoch [13/100], Loss: 0.7043\n",
      "Epoch [14/100], Loss: 0.7028\n",
      "Epoch [15/100], Loss: 0.7007\n",
      "Epoch [16/100], Loss: 0.6985\n",
      "Epoch [17/100], Loss: 0.6966\n",
      "Epoch [18/100], Loss: 0.6953\n",
      "Epoch [19/100], Loss: 0.6944\n",
      "Epoch [20/100], Loss: 0.6937\n",
      "Epoch [21/100], Loss: 0.6931\n",
      "Epoch [22/100], Loss: 0.6922\n",
      "Epoch [23/100], Loss: 0.6912\n",
      "Epoch [24/100], Loss: 0.6898\n",
      "Epoch [25/100], Loss: 0.6882\n",
      "Epoch [26/100], Loss: 0.6864\n",
      "Epoch [27/100], Loss: 0.6845\n",
      "Epoch [28/100], Loss: 0.6826\n",
      "Epoch [29/100], Loss: 0.6808\n",
      "Epoch [30/100], Loss: 0.6791\n",
      "Epoch [31/100], Loss: 0.6775\n",
      "Epoch [32/100], Loss: 0.6757\n",
      "Epoch [33/100], Loss: 0.6737\n",
      "Epoch [34/100], Loss: 0.6713\n",
      "Epoch [35/100], Loss: 0.6685\n",
      "Epoch [36/100], Loss: 0.6656\n",
      "Epoch [37/100], Loss: 0.6627\n",
      "Epoch [38/100], Loss: 0.6597\n",
      "Epoch [39/100], Loss: 0.6566\n",
      "Epoch [40/100], Loss: 0.6533\n",
      "Epoch [41/100], Loss: 0.6497\n",
      "Epoch [42/100], Loss: 0.6457\n",
      "Epoch [43/100], Loss: 0.6416\n",
      "Epoch [44/100], Loss: 0.6375\n",
      "Epoch [45/100], Loss: 0.6332\n",
      "Epoch [46/100], Loss: 0.6285\n",
      "Epoch [47/100], Loss: 0.6235\n",
      "Epoch [48/100], Loss: 0.6184\n",
      "Epoch [49/100], Loss: 0.6134\n",
      "Epoch [50/100], Loss: 0.6083\n",
      "Epoch [51/100], Loss: 0.6028\n",
      "Epoch [52/100], Loss: 0.5974\n",
      "Epoch [53/100], Loss: 0.5920\n",
      "Epoch [54/100], Loss: 0.5864\n",
      "Epoch [55/100], Loss: 0.5806\n",
      "Epoch [56/100], Loss: 0.5748\n",
      "Epoch [57/100], Loss: 0.5691\n",
      "Epoch [58/100], Loss: 0.5631\n",
      "Epoch [59/100], Loss: 0.5572\n",
      "Epoch [60/100], Loss: 0.5514\n",
      "Epoch [61/100], Loss: 0.5455\n",
      "Epoch [62/100], Loss: 0.5397\n",
      "Epoch [63/100], Loss: 0.5339\n",
      "Epoch [64/100], Loss: 0.5281\n",
      "Epoch [65/100], Loss: 0.5223\n",
      "Epoch [66/100], Loss: 0.5166\n",
      "Epoch [67/100], Loss: 0.5108\n",
      "Epoch [68/100], Loss: 0.5051\n",
      "Epoch [69/100], Loss: 0.4994\n",
      "Epoch [70/100], Loss: 0.4937\n",
      "Epoch [71/100], Loss: 0.4880\n",
      "Epoch [72/100], Loss: 0.4823\n",
      "Epoch [73/100], Loss: 0.4766\n",
      "Epoch [74/100], Loss: 0.4709\n",
      "Epoch [75/100], Loss: 0.4651\n",
      "Epoch [76/100], Loss: 0.4594\n",
      "Epoch [77/100], Loss: 0.4536\n",
      "Epoch [78/100], Loss: 0.4478\n",
      "Epoch [79/100], Loss: 0.4419\n",
      "Epoch [80/100], Loss: 0.4360\n",
      "Epoch [81/100], Loss: 0.4301\n",
      "Epoch [82/100], Loss: 0.4243\n",
      "Epoch [83/100], Loss: 0.4184\n",
      "Epoch [84/100], Loss: 0.4125\n",
      "Epoch [85/100], Loss: 0.4066\n",
      "Epoch [86/100], Loss: 0.4007\n",
      "Epoch [87/100], Loss: 0.3948\n",
      "Epoch [88/100], Loss: 0.3889\n",
      "Epoch [89/100], Loss: 0.3830\n",
      "Epoch [90/100], Loss: 0.3770\n",
      "Epoch [91/100], Loss: 0.3710\n",
      "Epoch [92/100], Loss: 0.3651\n",
      "Epoch [93/100], Loss: 0.3591\n",
      "Epoch [94/100], Loss: 0.3531\n",
      "Epoch [95/100], Loss: 0.3471\n",
      "Epoch [96/100], Loss: 0.3411\n",
      "Epoch [97/100], Loss: 0.3353\n",
      "Epoch [98/100], Loss: 0.3298\n",
      "Epoch [99/100], Loss: 0.3252\n",
      "Epoch [100/100], Loss: 0.3211\n",
      "Predictions: [[-0.01336609]\n",
      " [ 0.01794347]\n",
      " [-0.161469  ]\n",
      " ...\n",
      " [-0.8503234 ]\n",
      " [-0.8547723 ]\n",
      " [-0.9114184 ]]\n"
     ]
    }
   ],
   "source": [
    "# Convert input numpy array to PyTorch tensor\n",
    "input_array = read_input\n",
    "input_tensor = torch.from_numpy(input_array).float()\n",
    "target_array = target_arr\n",
    "target = torch.from_numpy(target_array).float()\n",
    "\n",
    "# Create an instance of the model\n",
    "model = CNNModel()\n",
    "\n",
    "# Define loss function and optimizer\n",
    "criterion = nn.MSELoss()\n",
    "optimizer = optim.Adam(model.parameters(), lr=0.001)\n",
    "\n",
    "# Train the model\n",
    "num_epochs = 100\n",
    "for epoch in range(num_epochs):\n",
    "    model.train()\n",
    "    optimizer.zero_grad()\n",
    "    output = model(input_tensor)\n",
    "    # print(output.shape)\n",
    "    loss = criterion(output, target)\n",
    "    loss.backward()\n",
    "    optimizer.step()\n",
    "    print('Epoch [{}/{}], Loss: {:.4f}'.format(epoch+1, num_epochs, loss.item()))\n",
    "\n",
    "# Make predictions\n",
    "model.eval()\n",
    "with torch.no_grad():\n",
    "    output = model(input_tensor)\n",
    "    predictions = output.numpy()\n",
    "\n",
    "# Print the predicted values\n",
    "print('Predictions:', predictions)"
   ]
  },
  {
   "cell_type": "code",
   "execution_count": 85,
   "metadata": {},
   "outputs": [],
   "source": [
    "# Save model weights\n",
    "torch.save(model.state_dict(), 'minimax_e100.pth')"
   ]
  },
  {
   "cell_type": "code",
   "execution_count": null,
   "metadata": {},
   "outputs": [],
   "source": [
    "# Load saved model weights\n",
    "new_model = CNNModel()\n",
    "new_model.load_state_dict(torch.load('model_weights.pth'))\n"
   ]
  },
  {
   "cell_type": "code",
   "execution_count": 107,
   "metadata": {},
   "outputs": [],
   "source": [
    "tmp = np.loadtxt('/Users/clarec/Desktop/COMP30024-AI-ProjectB/agent/log/rr_18_R.csv', delimiter=',', dtype=float)\n",
    "tmp = np.array([convert_to_state_input(xi) for xi in tmp])[340].reshape([1,2,7,7])\n",
    "tmp_t = torch.from_numpy(tmp).float()"
   ]
  },
  {
   "cell_type": "code",
   "execution_count": 108,
   "metadata": {},
   "outputs": [
    {
     "name": "stdout",
     "output_type": "stream",
     "text": [
      "0.40310964\n"
     ]
    }
   ],
   "source": [
    "model.eval()\n",
    "with torch.no_grad():\n",
    "    test_out = model(tmp_t).numpy()\n",
    "print(test_out[0][0])"
   ]
  },
  {
   "cell_type": "code",
   "execution_count": 74,
   "metadata": {},
   "outputs": [],
   "source": [
    "class CNN2Model(nn.Module):\n",
    "    def __init__(self):\n",
    "        super(CNN2Model, self).__init__()\n",
    "        self.conv1 = nn.Conv2d(2, 16, kernel_size=3, stride=1, padding=1)\n",
    "        self.relu1 = nn.ReLU()\n",
    "        self.pool1 = nn.MaxPool2d(kernel_size=2)\n",
    "        self.conv2 = nn.Conv2d(16, 32, kernel_size=3, stride=1, padding=1)\n",
    "        self.relu2 = nn.ReLU()\n",
    "        self.pool2 = nn.MaxPool2d(kernel_size=2)\n",
    "        self.fc1 = nn.Linear(32, 64)\n",
    "        self.relu3 = nn.ReLU()\n",
    "        self.fc2 = nn.Linear(64, 1)\n",
    "        self.tanh = nn.Tanh()\n",
    "\n",
    "    def forward(self, x):\n",
    "        x = self.conv1(x)\n",
    "        x = self.relu1(x)\n",
    "        x = self.pool1(x)\n",
    "        x = self.conv2(x)\n",
    "        x = self.relu2(x)\n",
    "        x = self.pool2(x)\n",
    "        x = x.view(x.size(0), -1)\n",
    "        x = self.fc1(x)\n",
    "        x = self.relu3(x)\n",
    "        x = self.fc2(x)\n",
    "        x = self.tanh(x)\n",
    "        return x\n"
   ]
  },
  {
   "cell_type": "code",
   "execution_count": 76,
   "metadata": {},
   "outputs": [
    {
     "name": "stdout",
     "output_type": "stream",
     "text": [
      "Epoch [1/10], Loss: 0.0660\n",
      "Epoch [2/10], Loss: 0.0613\n",
      "Epoch [3/10], Loss: 0.0568\n",
      "Epoch [4/10], Loss: 0.0524\n",
      "Epoch [5/10], Loss: 0.0483\n",
      "Epoch [6/10], Loss: 0.0443\n",
      "Epoch [7/10], Loss: 0.0405\n",
      "Epoch [8/10], Loss: 0.0369\n",
      "Epoch [9/10], Loss: 0.0334\n",
      "Epoch [10/10], Loss: 0.0301\n",
      "Predictions: [[0.15979144]\n",
      " [0.15141708]\n",
      " [0.1525378 ]\n",
      " ...\n",
      " [0.18404005]\n",
      " [0.17930184]\n",
      " [0.17784083]]\n"
     ]
    }
   ],
   "source": [
    "# Convert input numpy array to PyTorch tensor\n",
    "input_array = read_input\n",
    "input_tensor = torch.from_numpy(input_array).float()\n",
    "target_array = target_arr\n",
    "target = torch.from_numpy(target_array).float()\n",
    "\n",
    "# Create an instance of the model\n",
    "model2 = CNN2Model()\n",
    "\n",
    "# Define loss function and optimizer\n",
    "criterion2 = nn.MSELoss()\n",
    "optimizer2 = optim.Adam(model2.parameters(), lr=0.0001)\n",
    "\n",
    "# Train the model\n",
    "num_epochs = 10\n",
    "for epoch in range(num_epochs):\n",
    "    model2.train()\n",
    "    optimizer2.zero_grad()\n",
    "    output2 = model2(input_tensor)\n",
    "    # print(output.shape)\n",
    "    loss2 = criterion(output2, target)\n",
    "    loss2.backward()\n",
    "    optimizer2.step()\n",
    "    print('Epoch [{}/{}], Loss: {:.4f}'.format(epoch+1, num_epochs, loss2.item()))\n",
    "\n",
    "# Make predictions\n",
    "model2.eval()\n",
    "with torch.no_grad():\n",
    "    output2 = model2(input_tensor)\n",
    "    predictions2 = output2.numpy()\n",
    "\n",
    "# Print the predicted values\n",
    "print('Predictions:', predictions2)"
   ]
  },
  {
   "cell_type": "code",
   "execution_count": 52,
   "metadata": {},
   "outputs": [
    {
     "data": {
      "text/plain": [
       "0.093327984"
      ]
     },
     "execution_count": 52,
     "metadata": {},
     "output_type": "execute_result"
    }
   ],
   "source": [
    "predictions.mean()"
   ]
  }
 ],
 "metadata": {
  "kernelspec": {
   "display_name": "base",
   "language": "python",
   "name": "python3"
  },
  "language_info": {
   "codemirror_mode": {
    "name": "ipython",
    "version": 3
   },
   "file_extension": ".py",
   "mimetype": "text/x-python",
   "name": "python",
   "nbconvert_exporter": "python",
   "pygments_lexer": "ipython3",
   "version": "3.10.9"
  },
  "orig_nbformat": 4
 },
 "nbformat": 4,
 "nbformat_minor": 2
}
