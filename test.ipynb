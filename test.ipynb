{
 "cells": [
  {
   "cell_type": "code",
   "execution_count": 1,
   "metadata": {},
   "outputs": [
    {
     "name": "stdout",
     "output_type": "stream",
     "text": [
      "Testing: I am playing as red\n"
     ]
    },
    {
     "data": {
      "text/plain": [
       "<agent.program.Agent at 0x103823c10>"
      ]
     },
     "execution_count": 1,
     "metadata": {},
     "output_type": "execute_result"
    }
   ],
   "source": [
    "from agent import Agent\n",
    "from referee.game import PlayerColor\n",
    "agent = Agent(PlayerColor.RED)\n",
    "\n",
    "agent"
   ]
  },
  {
   "cell_type": "code",
   "execution_count": 2,
   "metadata": {},
   "outputs": [
    {
     "data": {
      "text/plain": [
       "SpawnAction(cell=HexPos(r=4, q=6))"
      ]
     },
     "execution_count": 2,
     "metadata": {},
     "output_type": "execute_result"
    }
   ],
   "source": [
    "action = agent.action()\n",
    "action"
   ]
  },
  {
   "cell_type": "code",
   "execution_count": 3,
   "metadata": {},
   "outputs": [],
   "source": [
    "from agent.board import MatrixBoard\n",
    "import numpy as np\n",
    "\n",
    "matrix = np.zeros([2,7,7], dtype=int)\n",
    "board = MatrixBoard(matrix, 0, 0, 0)"
   ]
  },
  {
   "cell_type": "code",
   "execution_count": 4,
   "metadata": {},
   "outputs": [],
   "source": [
    "from referee.game import \\\n",
    "    PlayerColor, Action, SpawnAction, SpreadAction, HexPos, HexDir\n",
    "\n",
    "board.apply_action(SpawnAction(HexPos(1,1)), PlayerColor.RED)\n",
    "board.apply_action(SpawnAction(HexPos(1,2)), PlayerColor.BLUE)\n",
    "board.apply_action(SpreadAction(HexPos(1,1), HexDir.UpRight), PlayerColor.RED)"
   ]
  },
  {
   "cell_type": "code",
   "execution_count": 5,
   "metadata": {},
   "outputs": [
    {
     "name": "stdout",
     "output_type": "stream",
     "text": [
      "                         ..     \n",
      "                     ..      ..     \n",
      "                 ..      ..      ..     \n",
      "             ..      ..      ..      ..     \n",
      "         ..      ..      ..      ..      ..     \n",
      "     ..     \u001b[31m r1 \u001b[0m     ..      ..      ..      ..     \n",
      " ..      ..      ..      ..      ..      ..      ..     \n",
      "     ..     \u001b[34m b1 \u001b[0m     ..      ..      ..      ..     \n",
      "         ..      ..      ..      ..      ..     \n",
      "             ..      ..      ..      ..     \n",
      "                 ..      ..      ..     \n",
      "                     ..      ..     \n",
      "                         ..     \n",
      "\n"
     ]
    }
   ],
   "source": [
    "print(board.render(use_color=True, use_unicode=True))"
   ]
  },
  {
   "cell_type": "code",
   "execution_count": 6,
   "metadata": {},
   "outputs": [],
   "source": [
    "import math\n",
    "from enum import Enum\n",
    "from referee.game import \\\n",
    "    PlayerColor, Action, SpawnAction, SpreadAction, HexPos, HexDir\n",
    "from agent.board import MatrixBoard\n",
    "\n",
    "class MCState(Enum):\n",
    "    UNVISITIED = 0;\n",
    "    UNEXPANDED = 1;\n",
    "    EXPANDED = 2;\n",
    "\n",
    "class MCNode:\n",
    "    def __init__(self, \n",
    "                 time_limit: float | None, \n",
    "                 space_limit: float | None,\n",
    "                 board: MatrixBoard, \n",
    "                 color: PlayerColor,\n",
    "                 action: Action = None,\n",
    "                 parent = None,\n",
    "                 ) -> None:\n",
    "        self.playouts = 0\n",
    "        self.wins = 0\n",
    "        self.state = MCState.UNVISITIED\n",
    "        self.time_limit = time_limit\n",
    "        self.space_limit = space_limit\n",
    "        self.board = board\n",
    "        self.parent = parent\n",
    "        self.children = []\n",
    "        self.action = action\n",
    "        self.color = color\n",
    "        # self.ubc\n",
    "    \n",
    "    def is_over(self) -> bool:\n",
    "        return self.board.game_over()\n",
    "    \n",
    "    def winner_color(self) -> PlayerColor | None: \n",
    "        return self.board.winner_color()\n",
    "    \n",
    "    def _ucb(self, c):\n",
    "        '''\n",
    "        Calculate the UCB score.\n",
    "        '''\n",
    "        return self.wins / self.playouts \\\n",
    "                + c * math.sqrt(2 * math.log(self.playouts) / self.playouts)"
   ]
  },
  {
   "cell_type": "code",
   "execution_count": 7,
   "metadata": {},
   "outputs": [],
   "source": [
    "state_prev = np.zeros([2,7,7], dtype=int)\n",
    "board_prev = MatrixBoard(state_prev, 0, 0, 0)\n",
    "node_prev = MCNode(0, 0, board_prev, PlayerColor.RED, None, None)\n",
    "\n",
    "node_curr = MCNode(0, 0, board_prev, PlayerColor.RED, None, None)"
   ]
  },
  {
   "cell_type": "code",
   "execution_count": 8,
   "metadata": {},
   "outputs": [],
   "source": [
    "import numpy as np\n",
    "\n",
    "# Create a NumPy array\n",
    "# my_array = np.array([[1, 2, 3], [4, 5, 6]])\n",
    "my_array = np.zeros([2,2,7,7], dtype=int).reshape([2, 2*7*7])\n",
    "\n",
    "# Open the file in append mode\n",
    "with open('my_file.csv', mode='w') as file:\n",
    "    # Use np.savetxt() with the file object\n",
    "    np.savetxt(file, my_array, delimiter=',')\n"
   ]
  },
  {
   "cell_type": "code",
   "execution_count": 9,
   "metadata": {},
   "outputs": [
    {
     "data": {
      "text/plain": [
       "(2, 98)"
      ]
     },
     "execution_count": 9,
     "metadata": {},
     "output_type": "execute_result"
    }
   ],
   "source": [
    "# Read the CSV file as a float data type\n",
    "my_array = np.loadtxt('my_file.csv', delimiter=',', dtype=float)\n",
    "my_array.shape"
   ]
  },
  {
   "cell_type": "code",
   "execution_count": 10,
   "metadata": {},
   "outputs": [
    {
     "data": {
      "text/plain": [
       "array([[[[0., 0., 0., 0., 0., 0., 0.],\n",
       "         [0., 0., 0., 0., 0., 0., 0.],\n",
       "         [0., 0., 0., 0., 0., 0., 0.],\n",
       "         [0., 0., 0., 0., 0., 0., 0.],\n",
       "         [0., 0., 0., 0., 0., 0., 0.],\n",
       "         [0., 0., 0., 0., 0., 0., 0.],\n",
       "         [0., 0., 0., 0., 0., 0., 0.]],\n",
       "\n",
       "        [[0., 0., 0., 0., 0., 0., 0.],\n",
       "         [0., 0., 0., 0., 0., 0., 0.],\n",
       "         [0., 0., 0., 0., 0., 0., 0.],\n",
       "         [0., 0., 0., 0., 0., 0., 0.],\n",
       "         [0., 0., 0., 0., 0., 0., 0.],\n",
       "         [0., 0., 0., 0., 0., 0., 0.],\n",
       "         [0., 0., 0., 0., 0., 0., 0.]]],\n",
       "\n",
       "\n",
       "       [[[0., 0., 0., 0., 0., 0., 0.],\n",
       "         [0., 0., 0., 0., 0., 0., 0.],\n",
       "         [0., 0., 0., 0., 0., 0., 0.],\n",
       "         [0., 0., 0., 0., 0., 0., 0.],\n",
       "         [0., 0., 0., 0., 0., 0., 0.],\n",
       "         [0., 0., 0., 0., 0., 0., 0.],\n",
       "         [0., 0., 0., 0., 0., 0., 0.]],\n",
       "\n",
       "        [[0., 0., 0., 0., 0., 0., 0.],\n",
       "         [0., 0., 0., 0., 0., 0., 0.],\n",
       "         [0., 0., 0., 0., 0., 0., 0.],\n",
       "         [0., 0., 0., 0., 0., 0., 0.],\n",
       "         [0., 0., 0., 0., 0., 0., 0.],\n",
       "         [0., 0., 0., 0., 0., 0., 0.],\n",
       "         [0., 0., 0., 0., 0., 0., 0.]]]])"
      ]
     },
     "execution_count": 10,
     "metadata": {},
     "output_type": "execute_result"
    }
   ],
   "source": [
    "my_array.reshape([2,2,7,7])"
   ]
  },
  {
   "cell_type": "code",
   "execution_count": 11,
   "metadata": {},
   "outputs": [
    {
     "data": {
      "text/plain": [
       "(2, 98)"
      ]
     },
     "execution_count": 11,
     "metadata": {},
     "output_type": "execute_result"
    }
   ],
   "source": [
    "my_array.shape"
   ]
  },
  {
   "cell_type": "code",
   "execution_count": 12,
   "metadata": {},
   "outputs": [],
   "source": [
    "def convert_action_to_array(action: Action) -> np.ndarray:\n",
    "    match action:\n",
    "        case SpawnAction(cell):\n",
    "            return np.array([cell.r, cell.q, 0, 0])\n",
    "            # pass\n",
    "        case SpreadAction(cell, direction):\n",
    "            return np.array([cell.r, cell.q, direction.r, direction.q])"
   ]
  },
  {
   "cell_type": "code",
   "execution_count": 13,
   "metadata": {},
   "outputs": [
    {
     "data": {
      "text/plain": [
       "(1, 4)"
      ]
     },
     "execution_count": 13,
     "metadata": {},
     "output_type": "execute_result"
    }
   ],
   "source": [
    "convert_action_to_array(SpreadAction(HexPos(1,1), HexDir.Down)).reshape([1,-1]).shape"
   ]
  },
  {
   "cell_type": "code",
   "execution_count": 14,
   "metadata": {},
   "outputs": [
    {
     "data": {
      "text/plain": [
       "array([[207]])"
      ]
     },
     "execution_count": 14,
     "metadata": {},
     "output_type": "execute_result"
    }
   ],
   "source": [
    "i = 207\n",
    "np.array([i], dtype=int).reshape(1, -1)"
   ]
  },
  {
   "cell_type": "code",
   "execution_count": 15,
   "metadata": {},
   "outputs": [],
   "source": [
    "board = np.zeros([2,7,7], dtype=int)\n",
    "board[0,1,1] = 3\n",
    "board[1,3,4] = 5\n",
    "\n",
    "# translate the board into state \n",
    "new_board = np.zeros([3,7,7], dtype=int)\n",
    "new_board[-1] = np.ones([1,7,7], dtype=int)\n",
    "\n",
    "# Channel 1: represents the positions of tokens\n",
    "set_oppo = lambda x: -1 if x > 0 else 0\n",
    "set_curr = lambda x: 1 if x > 0 else 0\n",
    "oppo = np.array([[set_oppo(e) for e in row] for row in board[1]])\n",
    "curr = np.array([[set_curr(e) for e in row] for row in board[0]])\n",
    "new_board[0] = oppo + curr\n",
    "\n",
    "# Channel 2: represents the power of all tokens\n",
    "add = board[0] + board[1]\n",
    "new_board[1] = np.copy(add)"
   ]
  },
  {
   "cell_type": "code",
   "execution_count": 16,
   "metadata": {},
   "outputs": [
    {
     "data": {
      "text/plain": [
       "array([[[ 0,  0,  0,  0,  0,  0,  0],\n",
       "        [ 0,  1,  0,  0,  0,  0,  0],\n",
       "        [ 0,  0,  0,  0,  0,  0,  0],\n",
       "        [ 0,  0,  0,  0, -1,  0,  0],\n",
       "        [ 0,  0,  0,  0,  0,  0,  0],\n",
       "        [ 0,  0,  0,  0,  0,  0,  0],\n",
       "        [ 0,  0,  0,  0,  0,  0,  0]],\n",
       "\n",
       "       [[ 0,  0,  0,  0,  0,  0,  0],\n",
       "        [ 0,  3,  0,  0,  0,  0,  0],\n",
       "        [ 0,  0,  0,  0,  0,  0,  0],\n",
       "        [ 0,  0,  0,  0,  5,  0,  0],\n",
       "        [ 0,  0,  0,  0,  0,  0,  0],\n",
       "        [ 0,  0,  0,  0,  0,  0,  0],\n",
       "        [ 0,  0,  0,  0,  0,  0,  0]],\n",
       "\n",
       "       [[ 1,  1,  1,  1,  1,  1,  1],\n",
       "        [ 1,  1,  1,  1,  1,  1,  1],\n",
       "        [ 1,  1,  1,  1,  1,  1,  1],\n",
       "        [ 1,  1,  1,  1,  1,  1,  1],\n",
       "        [ 1,  1,  1,  1,  1,  1,  1],\n",
       "        [ 1,  1,  1,  1,  1,  1,  1],\n",
       "        [ 1,  1,  1,  1,  1,  1,  1]]])"
      ]
     },
     "execution_count": 16,
     "metadata": {},
     "output_type": "execute_result"
    }
   ],
   "source": [
    "new_board"
   ]
  },
  {
   "cell_type": "code",
   "execution_count": 17,
   "metadata": {},
   "outputs": [
    {
     "name": "stdout",
     "output_type": "stream",
     "text": [
      "tensor([[-0.0594]], grad_fn=<TanhBackward0>)\n"
     ]
    }
   ],
   "source": [
    "import torch\n",
    "import numpy as np\n",
    "\n",
    "class ExampleModel(torch.nn.Module):\n",
    "    def __init__(self):\n",
    "        super(ExampleModel, self).__init__()\n",
    "        self.conv1 = torch.nn.Conv2d(2, 16, kernel_size=3, stride=1, padding=1)\n",
    "        self.relu1 = torch.nn.ReLU()\n",
    "        self.conv2 = torch.nn.Conv2d(16, 32, kernel_size=3, stride=1, padding=1)\n",
    "        self.relu2 = torch.nn.ReLU()\n",
    "        self.fc1 = torch.nn.Linear(32 * 7 * 7, 128)\n",
    "        self.relu3 = torch.nn.ReLU()\n",
    "        self.fc2 = torch.nn.Linear(128, 1)\n",
    "        self.tanh = torch.nn.Tanh()\n",
    "\n",
    "    def forward(self, x):\n",
    "        x = torch.from_numpy(x).float() # convert input numpy array to torch tensor\n",
    "        x = self.conv1(x)\n",
    "        x = self.relu1(x)\n",
    "        x = self.conv2(x)\n",
    "        x = self.relu2(x)\n",
    "        x = x.view(-1, 32 * 7 * 7) # flatten the tensor\n",
    "        x = self.fc1(x)\n",
    "        x = self.relu3(x)\n",
    "        x = self.fc2(x)\n",
    "        x = self.tanh(x)\n",
    "        return x\n",
    "\n",
    "model = ExampleModel()\n",
    "input_array = np.random.rand(2, 7, 7)\n",
    "output = model(input_array)\n",
    "print(output)\n"
   ]
  },
  {
   "cell_type": "code",
   "execution_count": 18,
   "metadata": {},
   "outputs": [],
   "source": [
    "# import numpy as np\n",
    "\n",
    "# import numpy as np\n",
    "\n",
    "# def example_model_predict(input_array):\n",
    "#     # define the weights and biases for each layer of the neural network\n",
    "#     conv1_weight = np.random.rand(16, 2, 3, 3)\n",
    "#     conv1_bias = np.random.rand(16)\n",
    "#     conv2_weight = np.random.rand(32, 16, 3, 3)\n",
    "#     conv2_bias = np.random.rand(32)\n",
    "#     fc1_weight = np.random.rand(128, 32 * 7 * 7)\n",
    "#     fc1_bias = np.random.rand(128)\n",
    "#     fc2_weight = np.random.rand(1, 128)\n",
    "#     fc2_bias = np.random.rand(1)\n",
    "\n",
    "#     # perform the operations in the neural network manually\n",
    "#     x = input_array.astype(np.float32)\n",
    "#     x = np.transpose(x, (0, 3, 1, 2))  # transpose to (batch_size, channels, height, width)\n",
    "#     x = np.apply_along_axis(lambda m: np.convolve(m, conv1_weight.T.flatten(), mode='same') + conv1_bias, axis=(2, 3), arr=x)\n",
    "#     x = np.maximum(0, x)\n",
    "#     x = np.apply_along_axis(lambda m: np.convolve(m, conv2_weight.T.flatten(), mode='same') + conv2_bias, axis=(2, 3), arr=x)\n",
    "#     x = np.maximum(0, x)\n",
    "#     x = x.reshape(-1, 32 * 7 * 7)\n",
    "#     x = np.dot(x, fc1_weight.T) + fc1_bias\n",
    "#     x = np.maximum(0, x)\n",
    "#     x = np.dot(x, fc2_weight.T) + fc2_bias\n",
    "#     x = np.tanh(x)\n",
    "\n",
    "#     # return the final output\n",
    "#     return x.item()\n",
    "\n",
    "# # create a random input array with shape (2, 7, 7)\n",
    "# input_array = np.random.rand(2, 7, 7)\n",
    "\n",
    "# # reshape the input array to have shape (2, 1, 7, 7) to match the expected input shape\n",
    "# input_array = input_array.reshape((2, 1, 7, 7))\n",
    "\n",
    "# # call the example_model_predict function with the reshaped input array\n",
    "# output = example_model_predict(input_array)\n",
    "\n",
    "# # print the output\n",
    "# print(output)\n"
   ]
  },
  {
   "cell_type": "code",
   "execution_count": 19,
   "metadata": {},
   "outputs": [
    {
     "name": "stdout",
     "output_type": "stream",
     "text": [
      "rr_5_R.csv\n",
      "rr_17.csv\n",
      "rr_3_R.csv\n",
      "rr_1_R.csv\n",
      "rr_7_B.csv\n",
      "rr_2_B.csv\n",
      "rr_4_R.csv\n",
      "rr_6_B.csv\n",
      "rr_10_R.csv\n",
      "rr_8_R.csv\n",
      "rr_14_R.csv\n",
      "rr_12_B.csv\n",
      "rr_16_D.csv\n",
      "rr_17_B.csv\n",
      "rr_13_R.csv\n",
      "rr_11_B.csv\n",
      "rr_15_R.csv\n",
      "rr_9_R.csv\n"
     ]
    }
   ],
   "source": [
    "import os\n",
    "\n",
    "for file in os.listdir('/Users/clarec/Desktop/COMP30024-AI-ProjectB/agent/log/'):\n",
    "    print(file)\n",
    "# LOG_PATH = '/Users/clarec/Desktop/COMP30024-AI-ProjectB/agent/log/random_random_'\n",
    "\n",
    "# np1 = np.load(LOG_PATH+)"
   ]
  },
  {
   "cell_type": "code",
   "execution_count": 20,
   "metadata": {},
   "outputs": [],
   "source": [
    "LOG_RANDOM_PATH = '/Users/clarec/Desktop/COMP30024-AI-ProjectB/agent/log/rr_1_R.csv'\n",
    "\n",
    "X = np.loadtxt(LOG_RANDOM_PATH, delimiter=',', dtype=float)\n"
   ]
  },
  {
   "cell_type": "code",
   "execution_count": 21,
   "metadata": {},
   "outputs": [
    {
     "data": {
      "text/plain": [
       "array([0., 0., 0., 0., 0., 0., 0., 0., 0., 0., 0., 0., 0., 0., 0., 0., 0.,\n",
       "       0., 0., 0., 0., 0., 0., 0., 0., 0., 0., 0., 0., 0., 0., 0., 0., 0.,\n",
       "       0., 0., 0., 0., 0., 0., 0., 0., 0., 0., 0., 0., 0., 0., 0., 0., 0.,\n",
       "       0., 0., 0., 0., 0., 0., 0., 0., 0., 0., 0., 0., 0., 0., 0., 0., 0.,\n",
       "       0., 0., 0., 0., 0., 0., 0., 0., 0., 0., 0., 0., 0., 0., 0., 0., 0.,\n",
       "       0., 0., 0., 0., 0., 0., 0., 0., 0., 0., 0., 0., 0.])"
      ]
     },
     "execution_count": 21,
     "metadata": {},
     "output_type": "execute_result"
    }
   ],
   "source": [
    "X[0]"
   ]
  },
  {
   "cell_type": "code",
   "execution_count": 22,
   "metadata": {},
   "outputs": [],
   "source": [
    "y = np.ones([343, 1])\n"
   ]
  },
  {
   "cell_type": "code",
   "execution_count": 43,
   "metadata": {},
   "outputs": [
    {
     "name": "stdout",
     "output_type": "stream",
     "text": [
      "(343, 3, 7, 7)\n"
     ]
    }
   ],
   "source": [
    "player = 1\n",
    "def convert_to_state_input(board):\n",
    "    ''' Translate the board into state '''\n",
    "    global player\n",
    "    \n",
    "    # if len(board.shape) == 0:\n",
    "    #     print(board)\n",
    "    #     return np.array([])\n",
    "    \n",
    "    if len(board.shape) < 3:\n",
    "        board = board.reshape([2, 7, 7])\n",
    "        \n",
    "    # n = board.shape[0]\n",
    "    new_board = np.zeros([3,7,7], dtype=int)\n",
    "    # new_board[-1] = np.ones([player,7,7], dtype=int)\n",
    "\n",
    "    # Channel 1: represents the positions of tokens\n",
    "    set_oppo = lambda x: -1 if x > 0 else 0\n",
    "    set_curr = lambda x: 1 if x > 0 else 0\n",
    "    oppo = np.array([[set_oppo(e) for e in r] for r in board[1]])\n",
    "    curr = np.array([[set_curr(e) for e in r] for r in board[0]])\n",
    "    new_board[0] = oppo + curr\n",
    "\n",
    "    # Channel 2: represents the power of all tokens\n",
    "    add = board[0] + board[1]\n",
    "    new_board[1] = np.copy(add)\n",
    "    \n",
    "    # Channel 3: Which color is playing (RED: 1 BLUE: -1)\n",
    "    if player == 1:\n",
    "        new_board[-1] = np.ones([1,7,7], dtype=int)\n",
    "    else:\n",
    "        new_board[-1] = np.full(fill_value=player, shape=[1,7,7], dtype=int)\n",
    "    \n",
    "    player = -player \n",
    "    \n",
    "    return new_board\n",
    "\n",
    "res = np.array([convert_to_state_input(xi) for xi in X])\n",
    "print(res.shape)\n",
    "player = 1"
   ]
  },
  {
   "cell_type": "code",
   "execution_count": 44,
   "metadata": {},
   "outputs": [
    {
     "name": "stdout",
     "output_type": "stream",
     "text": [
      "rr_5_R.csv\n",
      "rr_3_R.csv\n",
      "rr_1_R.csv\n",
      "rr_7_B.csv\n",
      "rr_2_B.csv\n",
      "rr_4_R.csv\n",
      "rr_6_B.csv\n",
      "rr_10_R.csv\n",
      "rr_8_R.csv\n",
      "rr_14_R.csv\n",
      "rr_12_B.csv\n",
      "rr_16_D.csv\n",
      "rr_17_B.csv\n",
      "rr_13_R.csv\n",
      "rr_11_B.csv\n",
      "rr_15_R.csv\n",
      "rr_9_R.csv\n"
     ]
    }
   ],
   "source": [
    "import os\n",
    "\n",
    "player = 1\n",
    "PATH = '/Users/clarec/Desktop/COMP30024-AI-ProjectB/agent/log/'\n",
    "read_input = np.array([]).reshape([-1, 3, 7, 7])\n",
    "target_arr = np.array([]).reshape([-1, 1])\n",
    "# np.concatenate([read_input, res]).shape\n",
    "for file in os.listdir(PATH):\n",
    "    print(file)\n",
    "    tmp = np.loadtxt(PATH + file, delimiter=',', dtype=float)\n",
    "    tmp = np.array([convert_to_state_input(xi) for xi in tmp])\n",
    "    read_input = np.concatenate([read_input, tmp])\n",
    "    \n",
    "    # determine which player has won\n",
    "    if file[-4] ==\"R\":\n",
    "        win = 1\n",
    "    elif file[-4] ==\"B\":\n",
    "        win = -1 \n",
    "    else:  # draw\n",
    "        win = 0\n",
    "    \n",
    "    win_score = np.full(shape=[tmp.shape[0], 1], fill_value=win)\n",
    "    target_arr = np.concatenate([target_arr, win_score])"
   ]
  },
  {
   "cell_type": "code",
   "execution_count": 46,
   "metadata": {},
   "outputs": [],
   "source": [
    "import torch\n",
    "import torch.nn as nn\n",
    "import torch.optim as optim\n",
    "import numpy as np\n",
    "\n",
    "# Define the CNN model\n",
    "class CNNModel(nn.Module):\n",
    "    def __init__(self):\n",
    "        super(CNNModel, self).__init__()\n",
    "        self.conv1 = nn.Conv2d(3, 16, kernel_size=3, stride=1, padding=1)\n",
    "        self.relu1 = nn.ReLU()\n",
    "        self.pool1 = nn.MaxPool2d(kernel_size=2)\n",
    "        self.conv2 = nn.Conv2d(16, 32, kernel_size=3, stride=1, padding=1)\n",
    "        self.relu2 = nn.ReLU()\n",
    "        self.pool2 = nn.MaxPool2d(kernel_size=2)\n",
    "        self.fc1 = nn.Linear(32, 64)\n",
    "        self.relu3 = nn.ReLU()\n",
    "        self.fc2 = nn.Linear(64, 1)\n",
    "        self.tanh = nn.Tanh()\n",
    "\n",
    "    def forward(self, x):\n",
    "        x = self.conv1(x)\n",
    "        x = self.relu1(x)\n",
    "        x = self.pool1(x)\n",
    "        x = self.conv2(x)\n",
    "        x = self.relu2(x)\n",
    "        x = self.pool2(x)\n",
    "        x = x.view(x.size(0), -1)\n",
    "        x = self.fc1(x)\n",
    "        x = self.relu3(x)\n",
    "        x = self.fc2(x)\n",
    "        x = self.tanh(x)\n",
    "        return x\n",
    "\n"
   ]
  },
  {
   "cell_type": "code",
   "execution_count": 48,
   "metadata": {},
   "outputs": [
    {
     "name": "stdout",
     "output_type": "stream",
     "text": [
      "Epoch [1/10], Loss: 0.0198\n",
      "Epoch [2/10], Loss: 0.0185\n",
      "Epoch [3/10], Loss: 0.0172\n",
      "Epoch [4/10], Loss: 0.0160\n",
      "Epoch [5/10], Loss: 0.0149\n",
      "Epoch [6/10], Loss: 0.0138\n",
      "Epoch [7/10], Loss: 0.0128\n",
      "Epoch [8/10], Loss: 0.0118\n",
      "Epoch [9/10], Loss: 0.0109\n",
      "Epoch [10/10], Loss: 0.0100\n",
      "Predictions: [[0.11007989]\n",
      " [0.10057984]\n",
      " [0.10938258]\n",
      " ...\n",
      " [0.10628287]\n",
      " [0.07092883]\n",
      " [0.09704246]]\n"
     ]
    }
   ],
   "source": [
    "# Convert input numpy array to PyTorch tensor\n",
    "input_array = read_input\n",
    "input_tensor = torch.from_numpy(input_array).float()\n",
    "target_array = target_arr\n",
    "target = torch.from_numpy(target_array).float()\n",
    "\n",
    "# Create an instance of the model\n",
    "model = CNNModel()\n",
    "\n",
    "# Define loss function and optimizer\n",
    "criterion = nn.MSELoss()\n",
    "optimizer = optim.Adam(model.parameters(), lr=0.0001)\n",
    "\n",
    "# Train the model\n",
    "num_epochs = 10\n",
    "for epoch in range(num_epochs):\n",
    "    model.train()\n",
    "    optimizer.zero_grad()\n",
    "    output = model(input_tensor)\n",
    "    # print(output.shape)\n",
    "    loss = criterion(output, target)\n",
    "    loss.backward()\n",
    "    optimizer.step()\n",
    "    print('Epoch [{}/{}], Loss: {:.4f}'.format(epoch+1, num_epochs, loss.item()))\n",
    "\n",
    "# Make predictions\n",
    "model.eval()\n",
    "with torch.no_grad():\n",
    "    output = model(input_tensor)\n",
    "    predictions = output.numpy()\n",
    "\n",
    "# Print the predicted values\n",
    "print('Predictions:', predictions)"
   ]
  },
  {
   "cell_type": "code",
   "execution_count": null,
   "metadata": {},
   "outputs": [
    {
     "data": {
      "text/plain": [
       "array([[0.8891705 ],\n",
       "       [0.89073676],\n",
       "       [0.9308712 ],\n",
       "       [0.9264568 ],\n",
       "       [0.933289  ],\n",
       "       [0.95436734],\n",
       "       [0.960326  ],\n",
       "       [0.9655226 ],\n",
       "       [0.97077554],\n",
       "       [0.9662922 ],\n",
       "       [0.9765695 ],\n",
       "       [0.97580016],\n",
       "       [0.9775205 ],\n",
       "       [0.97680503],\n",
       "       [0.9770405 ],\n",
       "       [0.9778798 ],\n",
       "       [0.97712314],\n",
       "       [0.9817124 ],\n",
       "       [0.98355615],\n",
       "       [0.9883012 ],\n",
       "       [0.98813343],\n",
       "       [0.9895682 ],\n",
       "       [0.99040353],\n",
       "       [0.99042726],\n",
       "       [0.98989874],\n",
       "       [0.9906    ],\n",
       "       [0.991933  ],\n",
       "       [0.99176204],\n",
       "       [0.9924534 ],\n",
       "       [0.9912353 ],\n",
       "       [0.9917103 ],\n",
       "       [0.9902898 ],\n",
       "       [0.9921826 ],\n",
       "       [0.9908978 ],\n",
       "       [0.99203616],\n",
       "       [0.9918618 ],\n",
       "       [0.9925237 ],\n",
       "       [0.99260527],\n",
       "       [0.99310434],\n",
       "       [0.9927216 ],\n",
       "       [0.9931453 ],\n",
       "       [0.9940703 ],\n",
       "       [0.99473435],\n",
       "       [0.99541175],\n",
       "       [0.9959474 ],\n",
       "       [0.9955719 ],\n",
       "       [0.99513423],\n",
       "       [0.99492073],\n",
       "       [0.99630404],\n",
       "       [0.995956  ],\n",
       "       [0.9964426 ],\n",
       "       [0.9955038 ],\n",
       "       [0.9958799 ],\n",
       "       [0.99579877],\n",
       "       [0.99650943],\n",
       "       [0.995889  ],\n",
       "       [0.9961865 ],\n",
       "       [0.99651146],\n",
       "       [0.9972847 ],\n",
       "       [0.9963598 ],\n",
       "       [0.9967765 ],\n",
       "       [0.996576  ],\n",
       "       [0.99626255],\n",
       "       [0.99616283],\n",
       "       [0.996198  ],\n",
       "       [0.99622303],\n",
       "       [0.99628335],\n",
       "       [0.99660814],\n",
       "       [0.9966388 ],\n",
       "       [0.996927  ],\n",
       "       [0.99718124],\n",
       "       [0.9974337 ],\n",
       "       [0.99757665],\n",
       "       [0.9974635 ],\n",
       "       [0.99783134],\n",
       "       [0.9977461 ],\n",
       "       [0.9979934 ],\n",
       "       [0.9981949 ],\n",
       "       [0.99859035],\n",
       "       [0.9984811 ],\n",
       "       [0.9989066 ],\n",
       "       [0.99877596],\n",
       "       [0.9990641 ],\n",
       "       [0.99879926],\n",
       "       [0.99925053],\n",
       "       [0.9988368 ],\n",
       "       [0.99932975],\n",
       "       [0.9987362 ],\n",
       "       [0.99906373],\n",
       "       [0.99855083],\n",
       "       [0.9987164 ],\n",
       "       [0.99827397],\n",
       "       [0.9988324 ],\n",
       "       [0.9985852 ],\n",
       "       [0.99910456],\n",
       "       [0.9986395 ],\n",
       "       [0.9990362 ],\n",
       "       [0.9983636 ],\n",
       "       [0.9985496 ],\n",
       "       [0.9985704 ],\n",
       "       [0.9985825 ],\n",
       "       [0.99869585],\n",
       "       [0.99866945],\n",
       "       [0.99863964],\n",
       "       [0.99899757],\n",
       "       [0.9989974 ],\n",
       "       [0.9989785 ],\n",
       "       [0.99898964],\n",
       "       [0.9988203 ],\n",
       "       [0.99915606],\n",
       "       [0.99905914],\n",
       "       [0.9989627 ],\n",
       "       [0.9989318 ],\n",
       "       [0.9985582 ],\n",
       "       [0.9988308 ],\n",
       "       [0.9987063 ],\n",
       "       [0.99891347],\n",
       "       [0.9988627 ],\n",
       "       [0.9990401 ],\n",
       "       [0.99867827],\n",
       "       [0.99898905],\n",
       "       [0.998586  ],\n",
       "       [0.9988662 ],\n",
       "       [0.9986778 ],\n",
       "       [0.9992109 ],\n",
       "       [0.99886507],\n",
       "       [0.9992237 ],\n",
       "       [0.99880135],\n",
       "       [0.9991913 ],\n",
       "       [0.9990866 ],\n",
       "       [0.99942476],\n",
       "       [0.999135  ],\n",
       "       [0.9993564 ],\n",
       "       [0.99903977],\n",
       "       [0.9994122 ],\n",
       "       [0.9992184 ],\n",
       "       [0.99944377],\n",
       "       [0.9991755 ],\n",
       "       [0.999411  ],\n",
       "       [0.9993188 ],\n",
       "       [0.9995767 ],\n",
       "       [0.9994091 ],\n",
       "       [0.99958295],\n",
       "       [0.9994486 ],\n",
       "       [0.99955803],\n",
       "       [0.9994729 ],\n",
       "       [0.99955934],\n",
       "       [0.999561  ],\n",
       "       [0.99968094],\n",
       "       [0.999537  ],\n",
       "       [0.9996369 ],\n",
       "       [0.9993913 ],\n",
       "       [0.99959207],\n",
       "       [0.99947774],\n",
       "       [0.999568  ],\n",
       "       [0.9994836 ],\n",
       "       [0.99961627],\n",
       "       [0.99948317],\n",
       "       [0.9994386 ],\n",
       "       [0.9994167 ],\n",
       "       [0.99950534],\n",
       "       [0.9996273 ],\n",
       "       [0.99966085],\n",
       "       [0.999635  ],\n",
       "       [0.99960655],\n",
       "       [0.99964905],\n",
       "       [0.99966496],\n",
       "       [0.99968654],\n",
       "       [0.999704  ],\n",
       "       [0.999657  ],\n",
       "       [0.99961954],\n",
       "       [0.99970996],\n",
       "       [0.9998133 ],\n",
       "       [0.9997688 ],\n",
       "       [0.99981284],\n",
       "       [0.9997922 ],\n",
       "       [0.9998072 ],\n",
       "       [0.99975276],\n",
       "       [0.9997529 ],\n",
       "       [0.9997331 ],\n",
       "       [0.9997794 ],\n",
       "       [0.9997813 ],\n",
       "       [0.9997386 ],\n",
       "       [0.99968046],\n",
       "       [0.9996078 ],\n",
       "       [0.9996909 ],\n",
       "       [0.99964446],\n",
       "       [0.9996704 ],\n",
       "       [0.9990981 ],\n",
       "       [0.9992706 ],\n",
       "       [0.9992035 ],\n",
       "       [0.9993054 ],\n",
       "       [0.9991675 ],\n",
       "       [0.99926275],\n",
       "       [0.9993101 ],\n",
       "       [0.9993817 ],\n",
       "       [0.9994748 ],\n",
       "       [0.99936676],\n",
       "       [0.9993725 ],\n",
       "       [0.9992712 ],\n",
       "       [0.9993688 ],\n",
       "       [0.9993779 ],\n",
       "       [0.9995193 ],\n",
       "       [0.99942255],\n",
       "       [0.9996058 ],\n",
       "       [0.9995073 ],\n",
       "       [0.9996174 ],\n",
       "       [0.99952024],\n",
       "       [0.9996243 ],\n",
       "       [0.99959654],\n",
       "       [0.9996626 ],\n",
       "       [0.9994983 ],\n",
       "       [0.99959326],\n",
       "       [0.9995545 ],\n",
       "       [0.999682  ],\n",
       "       [0.9995015 ],\n",
       "       [0.99961495],\n",
       "       [0.99958813],\n",
       "       [0.99963504],\n",
       "       [0.9995195 ],\n",
       "       [0.99954194],\n",
       "       [0.99955255],\n",
       "       [0.99961317],\n",
       "       [0.99952793],\n",
       "       [0.9995977 ],\n",
       "       [0.9995115 ],\n",
       "       [0.9996529 ],\n",
       "       [0.99967265],\n",
       "       [0.9997607 ],\n",
       "       [0.9996739 ],\n",
       "       [0.9997305 ],\n",
       "       [0.9996904 ],\n",
       "       [0.9997635 ],\n",
       "       [0.999748  ],\n",
       "       [0.9998365 ],\n",
       "       [0.9998012 ],\n",
       "       [0.99984926],\n",
       "       [0.9998718 ],\n",
       "       [0.99992055],\n",
       "       [0.99988383],\n",
       "       [0.9999163 ],\n",
       "       [0.9998907 ],\n",
       "       [0.99992406],\n",
       "       [0.9998861 ],\n",
       "       [0.99991673],\n",
       "       [0.99977505],\n",
       "       [0.99982864],\n",
       "       [0.99958634],\n",
       "       [0.99975723],\n",
       "       [0.9996291 ],\n",
       "       [0.9997061 ],\n",
       "       [0.9996179 ],\n",
       "       [0.9997213 ],\n",
       "       [0.99943274],\n",
       "       [0.99963266],\n",
       "       [0.9995322 ],\n",
       "       [0.9997469 ],\n",
       "       [0.9995814 ],\n",
       "       [0.9997796 ],\n",
       "       [0.999609  ],\n",
       "       [0.99981505],\n",
       "       [0.9996711 ],\n",
       "       [0.9997799 ],\n",
       "       [0.9997626 ],\n",
       "       [0.9997519 ],\n",
       "       [0.99963874],\n",
       "       [0.99961734],\n",
       "       [0.9996248 ],\n",
       "       [0.99964076],\n",
       "       [0.99965847],\n",
       "       [0.99977607],\n",
       "       [0.99966276],\n",
       "       [0.99969894],\n",
       "       [0.9993244 ],\n",
       "       [0.99955153],\n",
       "       [0.9992476 ],\n",
       "       [0.9995012 ],\n",
       "       [0.9993098 ],\n",
       "       [0.99950147],\n",
       "       [0.999091  ],\n",
       "       [0.99925095],\n",
       "       [0.9989846 ],\n",
       "       [0.99925995],\n",
       "       [0.99909395],\n",
       "       [0.99941766],\n",
       "       [0.99917334],\n",
       "       [0.99946916],\n",
       "       [0.9993114 ],\n",
       "       [0.9995458 ],\n",
       "       [0.9990431 ],\n",
       "       [0.99939173],\n",
       "       [0.99898326],\n",
       "       [0.9993433 ],\n",
       "       [0.99913025],\n",
       "       [0.99944174],\n",
       "       [0.99894714],\n",
       "       [0.99931765],\n",
       "       [0.9989427 ],\n",
       "       [0.9993395 ],\n",
       "       [0.9986771 ],\n",
       "       [0.9985409 ],\n",
       "       [0.9981442 ],\n",
       "       [0.9988043 ],\n",
       "       [0.9984283 ],\n",
       "       [0.99878335],\n",
       "       [0.9982853 ],\n",
       "       [0.9987936 ],\n",
       "       [0.9984956 ],\n",
       "       [0.9990282 ],\n",
       "       [0.9984866 ],\n",
       "       [0.9991129 ],\n",
       "       [0.9985767 ],\n",
       "       [0.99933064],\n",
       "       [0.9990594 ],\n",
       "       [0.99940246],\n",
       "       [0.998983  ],\n",
       "       [0.99936247],\n",
       "       [0.9991545 ],\n",
       "       [0.9993036 ],\n",
       "       [0.99921626],\n",
       "       [0.9992459 ],\n",
       "       [0.99895024],\n",
       "       [0.9991844 ],\n",
       "       [0.99888736],\n",
       "       [0.9993185 ],\n",
       "       [0.99891365],\n",
       "       [0.99918747],\n",
       "       [0.998742  ],\n",
       "       [0.9991916 ],\n",
       "       [0.9992315 ],\n",
       "       [0.9995397 ],\n",
       "       [0.99926525],\n",
       "       [0.99959177],\n",
       "       [0.99920315],\n",
       "       [0.99947417],\n",
       "       [0.99939567],\n",
       "       [0.999545  ],\n",
       "       [0.9993078 ],\n",
       "       [0.9995151 ],\n",
       "       [0.9994184 ],\n",
       "       [0.99956185],\n",
       "       [0.9994091 ],\n",
       "       [0.9996298 ]], dtype=float32)"
      ]
     },
     "execution_count": 59,
     "metadata": {},
     "output_type": "execute_result"
    }
   ],
   "source": [
    "predictions"
   ]
  }
 ],
 "metadata": {
  "kernelspec": {
   "display_name": "base",
   "language": "python",
   "name": "python3"
  },
  "language_info": {
   "codemirror_mode": {
    "name": "ipython",
    "version": 3
   },
   "file_extension": ".py",
   "mimetype": "text/x-python",
   "name": "python",
   "nbconvert_exporter": "python",
   "pygments_lexer": "ipython3",
   "version": "3.10.9"
  },
  "orig_nbformat": 4
 },
 "nbformat": 4,
 "nbformat_minor": 2
}
