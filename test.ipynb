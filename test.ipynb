{
 "cells": [
  {
   "cell_type": "code",
   "execution_count": 5,
   "metadata": {},
   "outputs": [
    {
     "name": "stdout",
     "output_type": "stream",
     "text": [
      "Testing: I am playing as red\n"
     ]
    },
    {
     "data": {
      "text/plain": [
       "<agent.program.Agent at 0x104a11d80>"
      ]
     },
     "execution_count": 5,
     "metadata": {},
     "output_type": "execute_result"
    }
   ],
   "source": [
    "from agent import Agent\n",
    "from referee.game import PlayerColor\n",
    "agent = Agent(PlayerColor.RED)\n",
    "\n",
    "agent"
   ]
  },
  {
   "cell_type": "code",
   "execution_count": 6,
   "metadata": {},
   "outputs": [
    {
     "data": {
      "text/plain": [
       "SpawnAction(cell=HexPos(r=3, q=3))"
      ]
     },
     "execution_count": 6,
     "metadata": {},
     "output_type": "execute_result"
    }
   ],
   "source": [
    "action = agent.action()\n",
    "action"
   ]
  },
  {
   "cell_type": "code",
   "execution_count": 7,
   "metadata": {},
   "outputs": [],
   "source": [
    "from agent.board import MatrixBoard\n",
    "import numpy as np\n",
    "\n",
    "matrix = np.zeros([2,7,7], dtype=int)\n",
    "board = MatrixBoard(matrix, 0, 0, 0)"
   ]
  },
  {
   "cell_type": "code",
   "execution_count": 8,
   "metadata": {},
   "outputs": [
    {
     "name": "stdout",
     "output_type": "stream",
     "text": [
      "r=%d, q=%d, dr=%d, dq=%d 1 1 1 0\n"
     ]
    },
    {
     "ename": "TypeError",
     "evalue": "MatrixBoard.update_r_q() takes 4 positional arguments but 5 were given",
     "output_type": "error",
     "traceback": [
      "\u001b[0;31m---------------------------------------------------------------------------\u001b[0m",
      "\u001b[0;31mTypeError\u001b[0m                                 Traceback (most recent call last)",
      "Cell \u001b[0;32mIn[8], line 6\u001b[0m\n\u001b[1;32m      4\u001b[0m board\u001b[39m.\u001b[39mapply_action(SpawnAction(HexPos(\u001b[39m1\u001b[39m,\u001b[39m1\u001b[39m)), PlayerColor\u001b[39m.\u001b[39mRED)\n\u001b[1;32m      5\u001b[0m board\u001b[39m.\u001b[39mapply_action(SpawnAction(HexPos(\u001b[39m1\u001b[39m,\u001b[39m2\u001b[39m)), PlayerColor\u001b[39m.\u001b[39mBLUE)\n\u001b[0;32m----> 6\u001b[0m board\u001b[39m.\u001b[39;49mapply_action(SpreadAction(HexPos(\u001b[39m1\u001b[39;49m,\u001b[39m1\u001b[39;49m), HexDir\u001b[39m.\u001b[39;49mUpRight), PlayerColor\u001b[39m.\u001b[39;49mRED)\n",
      "File \u001b[0;32m~/Desktop/COMP30024-AI-ProjectB/agent/board.py:47\u001b[0m, in \u001b[0;36mMatrixBoard.apply_action\u001b[0;34m(self, action, color)\u001b[0m\n\u001b[1;32m     45\u001b[0m \u001b[39m# Spread\u001b[39;00m\n\u001b[1;32m     46\u001b[0m \u001b[39mfor\u001b[39;00m i \u001b[39min\u001b[39;00m \u001b[39mrange\u001b[39m(power):\n\u001b[0;32m---> 47\u001b[0m     r, q \u001b[39m=\u001b[39m \u001b[39mself\u001b[39;49m\u001b[39m.\u001b[39;49mupdate_r_q(r, q, dr, dq)\n\u001b[1;32m     48\u001b[0m     \u001b[39mself\u001b[39m\u001b[39m.\u001b[39mstate[curr_player][r][q] \u001b[39m=\u001b[39m \u001b[39mself\u001b[39m\u001b[39m.\u001b[39mstate[opponent][r][q] \u001b[39m+\u001b[39m \u001b[39m1\u001b[39m\n\u001b[1;32m     49\u001b[0m \u001b[39m    \u001b[39m\u001b[39m'''\u001b[39;00m\n\u001b[1;32m     50\u001b[0m \u001b[39m    if curr_player eats opponent's token, the power of the current player add the power\u001b[39;00m\n\u001b[1;32m     51\u001b[0m \u001b[39m    of the token eaten\u001b[39;00m\n\u001b[1;32m     52\u001b[0m \u001b[39m    '''\u001b[39;00m\n",
      "\u001b[0;31mTypeError\u001b[0m: MatrixBoard.update_r_q() takes 4 positional arguments but 5 were given"
     ]
    }
   ],
   "source": [
    "from referee.game import \\\n",
    "    PlayerColor, Action, SpawnAction, SpreadAction, HexPos, HexDir\n",
    "\n",
    "board.apply_action(SpawnAction(HexPos(1,1)), PlayerColor.RED)\n",
    "board.apply_action(SpawnAction(HexPos(1,2)), PlayerColor.BLUE)\n",
    "board.apply_action(SpreadAction(HexPos(1,1), HexDir.UpRight), PlayerColor.RED)"
   ]
  },
  {
   "cell_type": "code",
   "execution_count": null,
   "metadata": {},
   "outputs": [
    {
     "name": "stdout",
     "output_type": "stream",
     "text": [
      "                         ..     \n",
      "                     ..      ..     \n",
      "                 ..      ..      ..     \n",
      "             ..      ..      ..      ..     \n",
      "         ..      ..      ..      ..      ..     \n",
      "     ..      ..      ..      ..      ..      ..     \n",
      " ..     \u001b[31m r1 \u001b[0m     ..      ..      ..      ..      ..     \n",
      "     ..     \u001b[34m b1 \u001b[0m     ..      ..      ..      ..     \n",
      "         ..      ..      ..      ..      ..     \n",
      "             ..      ..      ..      ..     \n",
      "                 ..      ..      ..     \n",
      "                     ..      ..     \n",
      "                         ..     \n",
      "\n"
     ]
    }
   ],
   "source": [
    "print(board.render(use_color=True, use_unicode=True))"
   ]
  }
 ],
 "metadata": {
  "kernelspec": {
   "display_name": "base",
   "language": "python",
   "name": "python3"
  },
  "language_info": {
   "codemirror_mode": {
    "name": "ipython",
    "version": 3
   },
   "file_extension": ".py",
   "mimetype": "text/x-python",
   "name": "python",
   "nbconvert_exporter": "python",
   "pygments_lexer": "ipython3",
   "version": "3.10.9"
  },
  "orig_nbformat": 4
 },
 "nbformat": 4,
 "nbformat_minor": 2
}
