{
 "cells": [
  {
   "cell_type": "code",
   "execution_count": 18,
   "metadata": {},
   "outputs": [],
   "source": [
    "from agent import Agent\n",
    "from referee.game import PlayerColor\n",
    "from agent.board import MatrixBoard\n",
    "import numpy as np\n",
    "from referee.game import \\\n",
    "    PlayerColor, Action, SpawnAction, SpreadAction, HexPos, HexDir\n",
    "import math\n",
    "from enum import Enum\n"
   ]
  },
  {
   "cell_type": "code",
   "execution_count": 19,
   "metadata": {},
   "outputs": [],
   "source": [
    "# Function to update the r,q if they reach -1 or 7\n",
    "def update_r_q(r, q, dr, dq) -> tuple:\n",
    "    \"\"\"\n",
    "    Update the coordinates if the token reaches the edge.\n",
    "    \"\"\"\n",
    "    r += dr\n",
    "    q += dq\n",
    "    if r > 6:\n",
    "        r = 0\n",
    "    if r < 0:\n",
    "        r = 6\n",
    "    if q > 6:\n",
    "        q = 0\n",
    "    if q < 0:\n",
    "        q = 6\n",
    "    return (r, q)"
   ]
  },
  {
   "cell_type": "code",
   "execution_count": 2,
   "metadata": {},
   "outputs": [],
   "source": [
    "np_empty = np.zeros(shape=[2,7,7], dtype=int)\n",
    "board_empty = MatrixBoard(np_empty, 0, 0, 0)"
   ]
  },
  {
   "cell_type": "code",
   "execution_count": 6,
   "metadata": {},
   "outputs": [],
   "source": [
    "np_more_red = np.array([[[0,0,1,3,5,0,0], \n",
    "                        [0,1,0,0,0,3,0],\n",
    "                        [0,0,5,2,0,0,0],\n",
    "                        [1,2,0,0,3,0,4],\n",
    "                        [3,0,1,0,0,0,0],\n",
    "                        [0,2,1,0,0,0,0],\n",
    "                        [1,0,0,2,0,4,6]],\n",
    "                        [[1,2,0,0,0,0,0],\n",
    "                         [3,0,0,0,0,0,0],\n",
    "                         [4,0,0,0,0,0,0],\n",
    "                         [0,0,0,0,0,0,0],\n",
    "                         [0,0,0,0,0,3,0],\n",
    "                         [0,0,0,0,0,0,0],\n",
    "                         [0,0,0,0,5,0,0]]])\n",
    "board_mroe_red = MatrixBoard(np_more_red, 100, np_more_red[0].sum(), np_more_red[1].sum())"
   ]
  },
  {
   "cell_type": "code",
   "execution_count": 9,
   "metadata": {},
   "outputs": [
    {
     "name": "stdout",
     "output_type": "stream",
     "text": [
      "                        \u001b[31m r1 \u001b[0m    \n",
      "                     ..      ..     \n",
      "                \u001b[31m r3 \u001b[0m    \u001b[31m r2 \u001b[0m     ..     \n",
      "            \u001b[31m r1 \u001b[0m     ..     \u001b[31m r1 \u001b[0m    \u001b[31m r2 \u001b[0m    \n",
      "        \u001b[34m b4 \u001b[0m    \u001b[31m r2 \u001b[0m    \u001b[31m r1 \u001b[0m     ..     \u001b[34m b5 \u001b[0m    \n",
      "    \u001b[34m b3 \u001b[0m     ..      ..      ..      ..     \u001b[31m r4 \u001b[0m    \n",
      "\u001b[34m b1 \u001b[0m    \u001b[31m r1 \u001b[0m    \u001b[31m r5 \u001b[0m     ..      ..      ..     \u001b[31m r6 \u001b[0m    \n",
      "    \u001b[34m b2 \u001b[0m     ..     \u001b[31m r2 \u001b[0m    \u001b[31m r3 \u001b[0m    \u001b[34m b3 \u001b[0m     ..     \n",
      "        \u001b[31m r1 \u001b[0m     ..      ..      ..      ..     \n",
      "            \u001b[31m r3 \u001b[0m     ..      ..     \u001b[31m r4 \u001b[0m    \n",
      "                \u001b[31m r5 \u001b[0m    \u001b[31m r3 \u001b[0m     ..     \n",
      "                     ..      ..     \n",
      "                         ..     \n",
      "\n"
     ]
    }
   ],
   "source": [
    "print(board_mroe_red.render(use_color=True, use_unicode=True))"
   ]
  },
  {
   "cell_type": "code",
   "execution_count": 32,
   "metadata": {},
   "outputs": [
    {
     "name": "stdout",
     "output_type": "stream",
     "text": [
      "                         ..     \n",
      "                     ..      ..     \n",
      "                 ..      ..      ..     \n",
      "             ..      ..      ..      ..     \n",
      "         ..      ..      ..      ..     \u001b[34m b5 \u001b[0m    \n",
      "     ..      ..      ..      ..      ..      ..     \n",
      "\u001b[34m b1 \u001b[0m    \u001b[31m r1 \u001b[0m     ..     \u001b[31m r2 \u001b[0m     ..      ..      ..     \n",
      "    \u001b[34m b2 \u001b[0m     ..      ..      ..     \u001b[34m b3 \u001b[0m     ..     \n",
      "         ..      ..      ..      ..      ..     \n",
      "             ..      ..      ..      ..     \n",
      "                 ..      ..      ..     \n",
      "                     ..      ..     \n",
      "                         ..     \n",
      "\n"
     ]
    }
   ],
   "source": [
    "np_small = np.array([[[0,0,0,0,0,0,0], \n",
    "                        [0,1,0,0,0,0,0],\n",
    "                        [0,0,0,0,0,0,0],\n",
    "                        [0,0,0,2,0,0,0],\n",
    "                        [0,0,0,0,0,0,0],\n",
    "                        [0,0,0,0,0,0,0],\n",
    "                        [0,0,0,0,0,0,0]],\n",
    "                        [[1,2,0,0,0,0,0],\n",
    "                         [0,0,0,0,0,0,0],\n",
    "                         [0,0,0,0,0,0,0],\n",
    "                         [0,0,0,0,0,0,0],\n",
    "                         [0,0,0,0,0,3,0],\n",
    "                         [0,0,0,0,0,0,0],\n",
    "                         [0,0,0,0,5,0,0]]])\n",
    "board_small = MatrixBoard(np_small, 100, np_small[0].sum(), np_small[1].sum())\n",
    "print(board_small.render(use_color=True, use_unicode=True))"
   ]
  },
  {
   "cell_type": "code",
   "execution_count": 72,
   "metadata": {},
   "outputs": [
    {
     "name": "stdout",
     "output_type": "stream",
     "text": [
      "{(1, 1)}\n"
     ]
    },
    {
     "data": {
      "text/plain": [
       "(2, 1)"
      ]
     },
     "execution_count": 72,
     "metadata": {},
     "output_type": "execute_result"
    }
   ],
   "source": [
    "# state = np_small\n",
    "def calculate_attack_range(state):\n",
    "    domain_state = np.zeros(shape=[2,7,7], dtype=int)\n",
    "    curr_player = 0\n",
    "    opposite = 1\n",
    "    all_dir = [HexDir.Down, HexDir.DownLeft, HexDir.DownRight, \n",
    "            HexDir.Up, HexDir.UpLeft, HexDir.UpRight]\n",
    "\n",
    "    for player in range(2):\n",
    "        for i in range(7):\n",
    "            for j in range(7):\n",
    "                power = state[player][i][j]\n",
    "                if power == 0:\n",
    "                    continue\n",
    "                for d in all_dir:\n",
    "                    r = i\n",
    "                    q = j\n",
    "                    dr = d.value.r\n",
    "                    dq = d.value.q\n",
    "                    for p in range(power):\n",
    "                        r, q = update_r_q(r, q, dr, dq)\n",
    "                        domain_state[player, r, q] = 1\n",
    "\n",
    "    # num_attack_range = np.count_nonzero(domain_state[0])  \n",
    "\n",
    "    domain_coodinates = set([tuple(x) for x in np.argwhere(domain_state[curr_player] > 0)])\n",
    "    player_coordinates = set([tuple(x) for x in np.argwhere(state[curr_player] > 0)])\n",
    "    opposite_coordinates = set([tuple(x) for x in np.argwhere(state[opposite] > 0)])\n",
    "    opposite_domain = set([tuple(x) for x in np.argwhere(domain_state[opposite] > 0)])\n",
    "    attack_coord = domain_coodinates & opposite_coordinates\n",
    "    safeguard_coord = player_coordinates & opposite_domain\n",
    "    \n",
    "    # overlap_num = len(overlap_coord)\n",
    "    # the total power of opposite which can be eaten by the player\n",
    "    attack_power = sum([state[opposite][x] for x in attack_coord])\n",
    "    \n",
    "    # the total power of player which can NOT be eaten by the opposite\n",
    "    safeguard_power = sum([state[curr_player][x] for x in safeguard_coord])\n",
    "    print(safeguard_coord)\n",
    "    return attack_power, safeguard_power\n",
    "\n",
    "calculate_attack_range(np_small)\n"
   ]
  },
  {
   "cell_type": "code",
   "execution_count": 60,
   "metadata": {},
   "outputs": [],
   "source": [
    "# disadvantage = (domain_state[0] - domain_state[1]).sum()\n",
    "# (domain_state[0] - np_small[1])\n",
    "num_attack_range = np.count_nonzero(domain_state[0])\n",
    "\n",
    "domain_coodinates = set([tuple(x) for x in np.argwhere(domain_state[0] > 0)])\n",
    "opposite_coordinates = set([tuple(x) for x in np.argwhere(np_small[1] > 0)])\n",
    "overlap_coord = domain_coodinates & opposite_coordinates\n",
    " \n",
    "overlap_num = len(overlap_coord)\n",
    "overlap_power = sum([np_small[1][x] for x in overlap_coord])"
   ]
  },
  {
   "cell_type": "code",
   "execution_count": 38,
   "metadata": {},
   "outputs": [
    {
     "name": "stdout",
     "output_type": "stream",
     "text": [
      "                        \u001b[34m b1 \u001b[0m    \n",
      "                     ..     \u001b[34m b1 \u001b[0m    \n",
      "                \u001b[34m b1 \u001b[0m    \u001b[31m r1 \u001b[0m    \u001b[34m b1 \u001b[0m    \n",
      "            \u001b[34m b1 \u001b[0m    \u001b[34m b1 \u001b[0m     ..     \u001b[34m b1 \u001b[0m    \n",
      "        \u001b[31m r1 \u001b[0m    \u001b[31m r1 \u001b[0m    \u001b[31m r1 \u001b[0m    \u001b[31m r1 \u001b[0m     ..     \n",
      "    \u001b[31m r1 \u001b[0m    \u001b[31m r1 \u001b[0m    \u001b[31m r1 \u001b[0m    \u001b[31m r1 \u001b[0m    \u001b[34m b1 \u001b[0m    \u001b[34m b1 \u001b[0m    \n",
      "\u001b[34m b1 \u001b[0m    \u001b[34m b1 \u001b[0m     ..      ..     \u001b[34m b1 \u001b[0m    \u001b[34m b1 \u001b[0m    \u001b[34m b1 \u001b[0m    \n",
      "    \u001b[31m r1 \u001b[0m    \u001b[31m r1 \u001b[0m    \u001b[31m r1 \u001b[0m    \u001b[31m r1 \u001b[0m     ..      ..     \n",
      "        \u001b[31m r1 \u001b[0m    \u001b[31m r1 \u001b[0m    \u001b[31m r1 \u001b[0m    \u001b[31m r1 \u001b[0m    \u001b[34m b1 \u001b[0m    \n",
      "            \u001b[34m b1 \u001b[0m    \u001b[34m b1 \u001b[0m    \u001b[34m b1 \u001b[0m    \u001b[34m b1 \u001b[0m    \n",
      "                \u001b[34m b1 \u001b[0m    \u001b[31m r1 \u001b[0m    \u001b[34m b1 \u001b[0m    \n",
      "                    \u001b[34m b1 \u001b[0m    \u001b[34m b1 \u001b[0m    \n",
      "                        \u001b[34m b1 \u001b[0m    \n",
      "\n"
     ]
    }
   ],
   "source": [
    "domain_board = MatrixBoard(domain_state, 0, domain_state[0].sum(), domain_state[1].sum())\n",
    "print(domain_board.render(use_color=True, use_unicode=True))"
   ]
  },
  {
   "cell_type": "code",
   "execution_count": null,
   "metadata": {},
   "outputs": [],
   "source": []
  }
 ],
 "metadata": {
  "kernelspec": {
   "display_name": "base",
   "language": "python",
   "name": "python3"
  },
  "language_info": {
   "codemirror_mode": {
    "name": "ipython",
    "version": 3
   },
   "file_extension": ".py",
   "mimetype": "text/x-python",
   "name": "python",
   "nbconvert_exporter": "python",
   "pygments_lexer": "ipython3",
   "version": "3.10.9"
  },
  "orig_nbformat": 4
 },
 "nbformat": 4,
 "nbformat_minor": 2
}
