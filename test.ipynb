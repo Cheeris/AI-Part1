{
 "cells": [
  {
   "cell_type": "code",
   "execution_count": 1,
   "metadata": {},
   "outputs": [
    {
     "name": "stdout",
     "output_type": "stream",
     "text": [
      "Testing: I am playing as red\n"
     ]
    },
    {
     "data": {
      "text/plain": [
       "<agent.program.Agent at 0x105ca20b0>"
      ]
     },
     "execution_count": 1,
     "metadata": {},
     "output_type": "execute_result"
    }
   ],
   "source": [
    "from agent import Agent\n",
    "from referee.game import PlayerColor\n",
    "agent = Agent(PlayerColor.RED)\n",
    "\n",
    "agent"
   ]
  },
  {
   "cell_type": "code",
   "execution_count": 2,
   "metadata": {},
   "outputs": [
    {
     "data": {
      "text/plain": [
       "SpawnAction(cell=HexPos(r=3, q=3))"
      ]
     },
     "execution_count": 2,
     "metadata": {},
     "output_type": "execute_result"
    }
   ],
   "source": [
    "action = agent.action()\n",
    "action"
   ]
  },
  {
   "cell_type": "code",
   "execution_count": 8,
   "metadata": {},
   "outputs": [],
   "source": [
    "from agent.board import MatrixBoard\n",
    "import numpy as np\n",
    "\n",
    "matrix = np.zeros([2,7,7], dtype=int)\n",
    "board = MatrixBoard(matrix)"
   ]
  },
  {
   "cell_type": "code",
   "execution_count": 9,
   "metadata": {},
   "outputs": [],
   "source": [
    "from referee.game import \\\n",
    "    PlayerColor, Action, SpawnAction, SpreadAction, HexPos, HexDir\n",
    "\n",
    "board.apply_action(SpawnAction(HexPos(1,1)), PlayerColor.RED)"
   ]
  },
  {
   "cell_type": "code",
   "execution_count": 10,
   "metadata": {},
   "outputs": [
    {
     "name": "stdout",
     "output_type": "stream",
     "text": [
      "                         ..     \n",
      "                     ..      ..     \n",
      "                 ..      ..      ..     \n",
      "             ..      ..      ..      ..     \n",
      "         ..      ..      ..      ..      ..     \n",
      "     ..      ..      ..      ..      ..      ..     \n",
      " ..     \u001b[31m r1 \u001b[0m     ..      ..      ..      ..      ..     \n",
      "     ..      ..      ..      ..      ..      ..     \n",
      "         ..      ..      ..      ..      ..     \n",
      "             ..      ..      ..      ..     \n",
      "                 ..      ..      ..     \n",
      "                     ..      ..     \n",
      "                         ..     \n",
      "\n"
     ]
    }
   ],
   "source": [
    "print(board.render(use_color=True, use_unicode=True))"
   ]
  }
 ],
 "metadata": {
  "kernelspec": {
   "display_name": "base",
   "language": "python",
   "name": "python3"
  },
  "language_info": {
   "codemirror_mode": {
    "name": "ipython",
    "version": 3
   },
   "file_extension": ".py",
   "mimetype": "text/x-python",
   "name": "python",
   "nbconvert_exporter": "python",
   "pygments_lexer": "ipython3",
   "version": "3.10.9"
  },
  "orig_nbformat": 4
 },
 "nbformat": 4,
 "nbformat_minor": 2
}
