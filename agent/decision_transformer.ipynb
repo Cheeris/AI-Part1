{
 "cells": [
  {
   "cell_type": "code",
   "execution_count": 2,
   "metadata": {},
   "outputs": [
    {
     "name": "stdout",
     "output_type": "stream",
     "text": [
      "Collecting torch\n",
      "  Downloading torch-2.0.0-cp310-none-macosx_11_0_arm64.whl (55.8 MB)\n",
      "\u001b[2K     \u001b[90m━━━━━━━━━━━━━━━━━━━━━━━━━━━━━━━━━━━━━━━━\u001b[0m \u001b[32m55.8/55.8 MB\u001b[0m \u001b[31m7.2 MB/s\u001b[0m eta \u001b[36m0:00:00\u001b[0m00:01\u001b[0m00:01\u001b[0mm\n",
      "\u001b[?25hCollecting networkx\n",
      "  Downloading networkx-3.1-py3-none-any.whl (2.1 MB)\n",
      "\u001b[2K     \u001b[90m━━━━━━━━━━━━━━━━━━━━━━━━━━━━━━━━━━━━━━━━\u001b[0m \u001b[32m2.1/2.1 MB\u001b[0m \u001b[31m15.4 MB/s\u001b[0m eta \u001b[36m0:00:00\u001b[0m00:01\u001b[0m00:01\u001b[0m\n",
      "\u001b[?25hCollecting jinja2\n",
      "  Using cached Jinja2-3.1.2-py3-none-any.whl (133 kB)\n",
      "Collecting sympy\n",
      "  Using cached sympy-1.11.1-py3-none-any.whl (6.5 MB)\n",
      "Requirement already satisfied: filelock in /Users/clarec/miniconda3/lib/python3.10/site-packages (from torch) (3.11.0)\n",
      "Requirement already satisfied: typing-extensions in /Users/clarec/miniconda3/lib/python3.10/site-packages (from torch) (4.5.0)\n",
      "Requirement already satisfied: MarkupSafe>=2.0 in /Users/clarec/miniconda3/lib/python3.10/site-packages (from jinja2->torch) (2.1.2)\n",
      "Collecting mpmath>=0.19\n",
      "  Using cached mpmath-1.3.0-py3-none-any.whl (536 kB)\n",
      "Installing collected packages: mpmath, sympy, networkx, jinja2, torch\n",
      "Successfully installed jinja2-3.1.2 mpmath-1.3.0 networkx-3.1 sympy-1.11.1 torch-2.0.0\n",
      "Note: you may need to restart the kernel to use updated packages.\n"
     ]
    }
   ],
   "source": [
    "# pip install torch"
   ]
  },
  {
   "cell_type": "code",
   "execution_count": 5,
   "metadata": {},
   "outputs": [],
   "source": [
    "import torch\n",
    "import torch.nn as nn\n",
    "class DecisionTransformer(nn.Module):\n",
    "    def __init__(self, state_dim, action_dim, reward_dim, embedding_dim, nhead, num_layers):\n",
    "        super(DecisionTransformer, self).__init__() \n",
    "        self.state_embedding = nn.Linear(state_dim, embedding_dim) \n",
    "        self.action_embedding = nn.Linear(action_dim, embedding_dim) \n",
    "        self.reward_embedding = nn.Linear(reward_dim, embedding_dim)\n",
    "        \n",
    "        self.transformer = nn.Transformer(embedding_dim, nhead, num_layers) \n",
    "        self.output_layer = nn.Linear(embedding_dim, action_dim)\n",
    "        \n",
    "    def forward(self, states, actions, rewards, mask=None): \n",
    "        state_embeds = self.state_embedding(states) \n",
    "        action_embeds = self.action_embedding(actions) \n",
    "        reward_embeds = self.reward_embedding(rewards)\n",
    "        input_embeds = torch.cat((state_embeds, action_embeds, reward_embeds), dim=1) \n",
    "        # tgt = torch.rand((20, 32, 512))\n",
    "        # TODO: what is tgt?\n",
    "        transformer_output = self.transformer(input_embeds.transpose(0, 1), src_key_padding_mask=mask, tgt=input_embeds.transpose(0, 1)) \n",
    "        action_logits = self.output_layer(transformer_output[-1])\n",
    "        return action_logits\n",
    "\n",
    "state_dim = 10 \n",
    "action_dim = 5 \n",
    "reward_dim = 1 \n",
    "embedding_dim = 64 \n",
    "nhead = 4 \n",
    "num_layers = 2\n",
    "\n",
    "model = DecisionTransformer(state_dim, action_dim, reward_dim, embedding_dim, nhead, num_layers)\n",
    "\n",
    "# Load dataset\n",
    "states = torch.randn(32, 10, state_dim)\n",
    "actions = torch.randint(0, action_dim, (32, 10, 1))\n",
    "rewards = torch.randn(32, 10, 1)\n",
    "\n",
    "# Transfer to one-hot\n",
    "actions_one_hot = torch.zeros(32, 10, action_dim) \n",
    "actions_one_hot.scatter_(2, actions, 1)\n",
    "\n",
    "# Got outputs of the model\n",
    "action_logits = model(states, actions_one_hot, rewards)\n",
    "\n",
    "loss_fn = nn.CrossEntropyLoss()\n",
    "optimizer = torch.optim.Adam(model.parameters())\n",
    "\n",
    "# Training (one batch)\n",
    "optimizer.zero_grad()\n",
    "loss = loss_fn(action_logits, actions.squeeze(-1)[:, -1]) \n",
    "loss.backward()\n",
    "optimizer.step()"
   ]
  },
  {
   "cell_type": "code",
   "execution_count": null,
   "metadata": {},
   "outputs": [],
   "source": []
  }
 ],
 "metadata": {
  "kernelspec": {
   "display_name": "base",
   "language": "python",
   "name": "python3"
  },
  "language_info": {
   "codemirror_mode": {
    "name": "ipython",
    "version": 3
   },
   "file_extension": ".py",
   "mimetype": "text/x-python",
   "name": "python",
   "nbconvert_exporter": "python",
   "pygments_lexer": "ipython3",
   "version": "3.10.9"
  },
  "orig_nbformat": 4
 },
 "nbformat": 4,
 "nbformat_minor": 2
}
