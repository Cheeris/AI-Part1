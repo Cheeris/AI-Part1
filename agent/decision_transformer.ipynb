{
 "cells": [
  {
   "cell_type": "code",
   "execution_count": null,
   "metadata": {},
   "outputs": [],
   "source": [
    "# pip install torch"
   ]
  },
  {
   "cell_type": "code",
   "execution_count": 1,
   "metadata": {},
   "outputs": [],
   "source": [
    "import numpy as np\n",
    "import torch\n",
    "import torch.nn as nn"
   ]
  },
  {
   "cell_type": "code",
   "execution_count": 36,
   "metadata": {},
   "outputs": [],
   "source": [
    "# Prepare dataset\n",
    "# PATH_TO_DATA = \"/Users/clarec/Desktop/COMP30024-AI-ProjectB/agent/log\"\n",
    "state_dataset = torch.from_numpy(np.loadtxt('log/mcts_random_state.csv', delimiter=',', dtype=float).reshape(-1, 1, 98)).to(torch.float32)\n",
    "action_dataset = torch.from_numpy(np.loadtxt('log/mcts_random_action.csv', delimiter=',', dtype=float).reshape(-1, 1, 4)).to(torch.float32)\n",
    "reward_dataset = torch.from_numpy(np.loadtxt('log/mcts_random_reward.csv', delimiter=',', dtype=float).reshape(-1, 1, 1)).to(torch.float32)"
   ]
  },
  {
   "cell_type": "code",
   "execution_count": 37,
   "metadata": {},
   "outputs": [
    {
     "name": "stdout",
     "output_type": "stream",
     "text": [
      "torch.Size([343, 1, 98])\n",
      "torch.Size([343, 1, 4])\n",
      "torch.Size([343, 1, 1])\n"
     ]
    }
   ],
   "source": [
    "print(state_dataset.shape)\n",
    "print(action_dataset.shape)\n",
    "print(reward_dataset.shape)"
   ]
  },
  {
   "cell_type": "code",
   "execution_count": 45,
   "metadata": {},
   "outputs": [
    {
     "name": "stdout",
     "output_type": "stream",
     "text": [
      "torch.Size([343, 4])\n"
     ]
    }
   ],
   "source": [
    "\n",
    "class DecisionTransformer(nn.Module):\n",
    "    def __init__(self, state_dim, action_dim, reward_dim, embedding_dim, nhead, num_layers):\n",
    "        super(DecisionTransformer, self).__init__() \n",
    "        self.state_embedding = nn.Linear(state_dim, embedding_dim) \n",
    "        self.action_embedding = nn.Linear(action_dim, embedding_dim) \n",
    "        self.reward_embedding = nn.Linear(reward_dim, embedding_dim)\n",
    "        \n",
    "        self.transformer = nn.Transformer(embedding_dim, nhead, num_layers) \n",
    "        self.output_layer = nn.Linear(embedding_dim, action_dim)\n",
    "        \n",
    "    def forward(self, states, actions, rewards, mask=None): \n",
    "        state_embeds = self.state_embedding(states) \n",
    "        action_embeds = self.action_embedding(actions) \n",
    "        reward_embeds = self.reward_embedding(rewards)\n",
    "        input_embeds = torch.cat((state_embeds, action_embeds, reward_embeds), dim=1) \n",
    "        # tgt = torch.rand((20, 32, 512))\n",
    "        # TODO: what is tgt?\n",
    "        transformer_output = self.transformer(input_embeds.transpose(0, 1), src_key_padding_mask=mask, tgt=input_embeds.transpose(0, 1)) \n",
    "        action_logits = self.output_layer(transformer_output[-1])\n",
    "        return action_logits\n",
    "    \n",
    "# state_dim = 10 \n",
    "# action_dim = 5 \n",
    "state_dim = 98\n",
    "action_dim = 4\n",
    "reward_dim = 1 \n",
    "embedding_dim = 256\n",
    "nhead = 4 \n",
    "num_layers = 2\n",
    "# n = state_dataset.shape[0]\n",
    "n = 343\n",
    "\n",
    "model = DecisionTransformer(state_dim, action_dim, reward_dim, embedding_dim, nhead, num_layers)\n",
    "\n",
    "# Load dataset\n",
    "# # states = torch.randn(32, 10, state_dim)\n",
    "states = torch.randn(n, 1, state_dim)\n",
    "# actions = torch.randint(0, action_dim, (32, 10, 1))\n",
    "actions = torch.randn(n, 1, action_dim)\n",
    "rewards = torch.randn(n, 1, reward_dim)\n",
    "\n",
    "# states = state_dataset\n",
    "# actions = action_dataset\n",
    "# rewards = reward_dataset\n",
    "\n",
    "# print(states.shape)\n",
    "# print(actions.shape)\n",
    "# print(rewards.shape)\n",
    "# print(states.dtype)\n",
    "\n",
    "# # Transfer to one-hot\n",
    "# actions_one_hot = torch.zeros(32, 10, action_dim) \n",
    "# actions_one_hot.scatter_(2, actions, 1)\n",
    "\n",
    "# # Got outputs of the model\n",
    "# action_logits = model(states, actions_one_hot, rewards)\n",
    "action_logits = model(states, actions, rewards)\n",
    "# print(action_logits.shape)\n",
    "# print(action_logits)\n",
    "# print(actions.squeeze(-1))\n",
    "\n",
    "loss_fn = nn.CrossEntropyLoss()\n",
    "optimizer = torch.optim.Adam(model.parameters())\n",
    "\n",
    "# Training (one batch)\n",
    "optimizer.zero_grad()\n",
    "# loss = loss_fn(action_logits, actions.squeeze(-1)[:, -1]) \n",
    "loss = loss_fn(torch.flatten(action_logits), torch.flatten(actions)) \n",
    "loss.backward()\n",
    "optimizer.step()"
   ]
  },
  {
   "cell_type": "code",
   "execution_count": null,
   "metadata": {},
   "outputs": [],
   "source": [
    "action_logits"
   ]
  }
 ],
 "metadata": {
  "kernelspec": {
   "display_name": "base",
   "language": "python",
   "name": "python3"
  },
  "language_info": {
   "codemirror_mode": {
    "name": "ipython",
    "version": 3
   },
   "file_extension": ".py",
   "mimetype": "text/x-python",
   "name": "python",
   "nbconvert_exporter": "python",
   "pygments_lexer": "ipython3",
   "version": "3.10.9"
  },
  "orig_nbformat": 4
 },
 "nbformat": 4,
 "nbformat_minor": 2
}
